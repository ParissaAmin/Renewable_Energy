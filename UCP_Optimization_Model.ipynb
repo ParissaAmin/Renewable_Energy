{
  "nbformat": 4,
  "nbformat_minor": 0,
  "metadata": {
    "colab": {
      "provenance": [],
      "authorship_tag": "ABX9TyOltAzndk5lVMDD7eRBw1uJ",
      "include_colab_link": true
    },
    "kernelspec": {
      "name": "python3",
      "display_name": "Python 3"
    },
    "language_info": {
      "name": "python"
    }
  },
  "cells": [
    {
      "cell_type": "markdown",
      "metadata": {
        "id": "view-in-github",
        "colab_type": "text"
      },
      "source": [
        "<a href=\"https://colab.research.google.com/github/ParissaAmin/Machine-Learning/blob/main/Renewable%20Energy/UCP_Optimization_Model.ipynb\" target=\"_parent\"><img src=\"https://colab.research.google.com/assets/colab-badge.svg\" alt=\"Open In Colab\"/></a>"
      ]
    },
    {
      "cell_type": "code",
      "execution_count": 13,
      "metadata": {
        "colab": {
          "base_uri": "https://localhost:8080/"
        },
        "id": "23eP0I_ACslu",
        "outputId": "30a34d06-b848-4087-bcfe-98b9a859b636"
      },
      "outputs": [
        {
          "output_type": "stream",
          "name": "stdout",
          "text": [
            "Requirement already satisfied: pyomo in /usr/local/lib/python3.10/dist-packages (6.8.2)\n",
            "Requirement already satisfied: ply in /usr/local/lib/python3.10/dist-packages (from pyomo) (3.11)\n"
          ]
        }
      ],
      "source": [
        "!pip install pyomo\n",
        "!apt-get install -y -qq glpk-utils"
      ]
    },
    {
      "cell_type": "markdown",
      "source": [
        "# Code for UCP Implementation"
      ],
      "metadata": {
        "id": "mwqy4zGDCzRH"
      }
    },
    {
      "cell_type": "markdown",
      "source": [
        "Model Setup"
      ],
      "metadata": {
        "id": "rHd-__EoC_G7"
      }
    },
    {
      "cell_type": "code",
      "source": [
        "from pyomo.environ import *\n",
        "\n",
        "# Create the model\n",
        "model = ConcreteModel()\n",
        "\n",
        "# Define sets\n",
        "num_generators = 5\n",
        "num_hours = 24\n",
        "\n",
        "model.Generators = RangeSet(num_generators)\n",
        "model.Time = RangeSet(num_hours)"
      ],
      "metadata": {
        "id": "oaXMzZsICwK_"
      },
      "execution_count": 14,
      "outputs": []
    },
    {
      "cell_type": "markdown",
      "source": [
        "#Parameter Definitions"
      ],
      "metadata": {
        "id": "4rDbk2F3C9Ka"
      }
    },
    {
      "cell_type": "code",
      "source": [
        "\n",
        "min_output = {i: 20 for i in model.Generators}\n",
        "max_output = {i: 100 for i in model.Generators}\n",
        "startup_cost = {i: 200 for i in model.Generators}\n",
        "shutdown_cost = {i: 100 for i in model.Generators}\n",
        "operating_cost = {i: 10 for i in model.Generators}"
      ],
      "metadata": {
        "id": "qxuhDYlYC-dt"
      },
      "execution_count": 15,
      "outputs": []
    },
    {
      "cell_type": "code",
      "source": [
        "\n",
        "demand = {\n",
        "    t: 100 + 10 * (t % 5) for t in model.Time\n",
        "}\n",
        "\n",
        "\n",
        "reserve_factor = 0.1"
      ],
      "metadata": {
        "id": "ldWL3BULDPCh"
      },
      "execution_count": 16,
      "outputs": []
    },
    {
      "cell_type": "markdown",
      "source": [
        "#Variables"
      ],
      "metadata": {
        "id": "iXprPGTuDc-X"
      }
    },
    {
      "cell_type": "code",
      "source": [
        "model.P = Var(model.Generators, model.Time, within=NonNegativeReals)\n",
        "model.u = Var(model.Generators, model.Time, within=Binary)\n",
        "model.v = Var(model.Generators, model.Time, within=Binary)\n",
        "model.w = Var(model.Generators, model.Time, within=Binary)"
      ],
      "metadata": {
        "id": "CDfpMMP3DhUI"
      },
      "execution_count": 17,
      "outputs": []
    },
    {
      "cell_type": "markdown",
      "source": [
        "#Objective function"
      ],
      "metadata": {
        "id": "Wi202YXqDo_d"
      }
    },
    {
      "cell_type": "code",
      "source": [
        "#Minimize total cost\n",
        "def total_cost(model):\n",
        "    op_cost = sum(\n",
        "        model.P[i, t] * operating_cost[i] for i in model.Generators for t in model.Time\n",
        "    )\n",
        "    start_cost = sum(\n",
        "        model.v[i, t] * startup_cost[i] for i in model.Generators for t in model.Time\n",
        "    )\n",
        "    shut_cost = sum(\n",
        "        model.w[i, t] * shutdown_cost[i] for i in model.Generators for t in model.Time\n",
        "    )\n",
        "    return op_cost + start_cost + shut_cost\n",
        "\n",
        "\n",
        "model.Objective = Objective(rule=total_cost, sense=minimize)"
      ],
      "metadata": {
        "id": "HUUKh13hDsnO"
      },
      "execution_count": 18,
      "outputs": []
    },
    {
      "cell_type": "markdown",
      "source": [
        "#Constraints\n",
        "\n",
        "Power Balance Constraint\n",
        "\n",
        "Generator Limits\n",
        "\n",
        "Reserve Requirement\n",
        "\n",
        "Startup/Shutdown Constraints"
      ],
      "metadata": {
        "id": "P-CQHJ5dDxQ2"
      }
    },
    {
      "cell_type": "code",
      "source": [
        "# Demand profile (MW) over 24 hours\n",
        "demand = {t: 100 + 10 * (t % 5) for t in model.Time}\n",
        "\n",
        "# 1. Power balance constraint\n",
        "def demand_constraint(model, t):\n",
        "    return sum(model.P[i, t] for i in model.Generators) >= demand[t]\n",
        "\n",
        "model.DemandConstraint = Constraint(model.Time, rule=demand_constraint)"
      ],
      "metadata": {
        "id": "A1EnLpJaD8A6"
      },
      "execution_count": 19,
      "outputs": []
    },
    {
      "cell_type": "code",
      "source": [
        "# 2. Generator limits using Big-M approach\n",
        "def generator_min_limit(model, i, t):\n",
        "    return model.P[i, t] >= model.u[i, t] * min_output[i]\n",
        "\n",
        "def generator_max_limit(model, i, t):\n",
        "    return model.P[i, t] <= model.u[i, t] * max_output[i]\n",
        "\n",
        "model.GeneratorMinLimit = Constraint(model.Generators, model.Time, rule=generator_min_limit)\n",
        "model.GeneratorMaxLimit = Constraint(model.Generators, model.Time, rule=generator_max_limit)"
      ],
      "metadata": {
        "id": "l0wsei4iD-Td"
      },
      "execution_count": 20,
      "outputs": []
    },
    {
      "cell_type": "code",
      "source": [
        "# Reserve factor (percentage of demand to keep as reserve)\n",
        "reserve_factor = 0.1\n",
        "\n",
        "# 3. Reserve requirement\n",
        "def reserve_constraint(model, t):\n",
        "    return sum(model.P[i, t] for i in model.Generators) >= demand[t] * (1 + reserve_factor)\n",
        "\n",
        "model.ReserveConstraint = Constraint(model.Time, rule=reserve_constraint)"
      ],
      "metadata": {
        "id": "hTfQPjPlED1k"
      },
      "execution_count": 21,
      "outputs": []
    },
    {
      "cell_type": "code",
      "source": [
        "# 4. Startup/shutdown constraints\n",
        "def startup_shutdown_rule(model, i, t):\n",
        "    if t == 1:\n",
        "        return Constraint.Skip\n",
        "    return model.u[i, t] - model.u[i, t - 1] == model.v[i, t] - model.w[i, t]\n",
        "\n",
        "\n",
        "model.StartupShutdown = Constraint(model.Generators, model.Time, rule=startup_shutdown_rule)"
      ],
      "metadata": {
        "id": "9JIQJfguEJdY"
      },
      "execution_count": 22,
      "outputs": []
    },
    {
      "cell_type": "code",
      "source": [
        "!apt-get install -y -qq glpk-utils"
      ],
      "metadata": {
        "id": "Gy0ihitvENY6"
      },
      "execution_count": 23,
      "outputs": []
    },
    {
      "cell_type": "code",
      "source": [
        "!glpsol --version"
      ],
      "metadata": {
        "colab": {
          "base_uri": "https://localhost:8080/"
        },
        "id": "pB10-OdSESKa",
        "outputId": "31d693d6-33c9-4564-f362-8b9f2f36014c"
      },
      "execution_count": 25,
      "outputs": [
        {
          "output_type": "stream",
          "name": "stdout",
          "text": [
            "GLPSOL--GLPK LP/MIP Solver 5.0\n",
            "Copyright (C) 2000-2020 Free Software Foundation, Inc.\n",
            "\n",
            "This program has ABSOLUTELY NO WARRANTY.\n",
            "\n",
            "This program is free software; you may re-distribute it under the terms\n",
            "of the GNU General Public License version 3 or later.\n"
          ]
        }
      ]
    },
    {
      "cell_type": "markdown",
      "source": [
        "#Solve the Model"
      ],
      "metadata": {
        "id": "txCypr1nEVz3"
      }
    },
    {
      "cell_type": "code",
      "source": [
        "solver = SolverFactory(\"glpk\", executable=\"/usr/bin/glpsol\")\n",
        "results = solver.solve(model)"
      ],
      "metadata": {
        "id": "kg9yqivWEXCg"
      },
      "execution_count": 26,
      "outputs": []
    },
    {
      "cell_type": "markdown",
      "source": [
        "#Display Results"
      ],
      "metadata": {
        "id": "RVZbeCJfEcj3"
      }
    },
    {
      "cell_type": "code",
      "source": [
        "# Display total cost\n",
        "print(\"Total Cost: $\", model.Objective())\n",
        "\n",
        "# Display generator schedules\n",
        "for t in model.Time:\n",
        "    print(f\"\\nHour {t}:\")\n",
        "    for i in model.Generators:\n",
        "        print(\n",
        "            f\"  Generator {i}: Power = {model.P[i, t].value:.2f} MW, Status = {int(model.u[i, t].value)}\"\n",
        "        )"
      ],
      "metadata": {
        "colab": {
          "base_uri": "https://localhost:8080/"
        },
        "id": "iqvao6jjEgLh",
        "outputId": "ee9a16a1-5e7f-48a0-c065-eae3be26a654"
      },
      "execution_count": 27,
      "outputs": [
        {
          "output_type": "stream",
          "name": "stdout",
          "text": [
            "Total Cost: $ 31900.0\n",
            "\n",
            "Hour 1:\n",
            "  Generator 1: Power = 100.00 MW, Status = 1\n",
            "  Generator 2: Power = 21.00 MW, Status = 1\n",
            "  Generator 3: Power = 0.00 MW, Status = 0\n",
            "  Generator 4: Power = 0.00 MW, Status = 0\n",
            "  Generator 5: Power = 0.00 MW, Status = 0\n",
            "\n",
            "Hour 2:\n",
            "  Generator 1: Power = 100.00 MW, Status = 1\n",
            "  Generator 2: Power = 32.00 MW, Status = 1\n",
            "  Generator 3: Power = 0.00 MW, Status = 0\n",
            "  Generator 4: Power = 0.00 MW, Status = 0\n",
            "  Generator 5: Power = 0.00 MW, Status = 0\n",
            "\n",
            "Hour 3:\n",
            "  Generator 1: Power = 100.00 MW, Status = 1\n",
            "  Generator 2: Power = 43.00 MW, Status = 1\n",
            "  Generator 3: Power = 0.00 MW, Status = 0\n",
            "  Generator 4: Power = 0.00 MW, Status = 0\n",
            "  Generator 5: Power = 0.00 MW, Status = 0\n",
            "\n",
            "Hour 4:\n",
            "  Generator 1: Power = 54.00 MW, Status = 1\n",
            "  Generator 2: Power = 100.00 MW, Status = 1\n",
            "  Generator 3: Power = 0.00 MW, Status = 0\n",
            "  Generator 4: Power = 0.00 MW, Status = 0\n",
            "  Generator 5: Power = 0.00 MW, Status = 0\n",
            "\n",
            "Hour 5:\n",
            "  Generator 1: Power = 90.00 MW, Status = 1\n",
            "  Generator 2: Power = 20.00 MW, Status = 1\n",
            "  Generator 3: Power = 0.00 MW, Status = 0\n",
            "  Generator 4: Power = 0.00 MW, Status = 0\n",
            "  Generator 5: Power = 0.00 MW, Status = 0\n",
            "\n",
            "Hour 6:\n",
            "  Generator 1: Power = 100.00 MW, Status = 1\n",
            "  Generator 2: Power = 21.00 MW, Status = 1\n",
            "  Generator 3: Power = 0.00 MW, Status = 0\n",
            "  Generator 4: Power = 0.00 MW, Status = 0\n",
            "  Generator 5: Power = 0.00 MW, Status = 0\n",
            "\n",
            "Hour 7:\n",
            "  Generator 1: Power = 100.00 MW, Status = 1\n",
            "  Generator 2: Power = 32.00 MW, Status = 1\n",
            "  Generator 3: Power = 0.00 MW, Status = 0\n",
            "  Generator 4: Power = 0.00 MW, Status = 0\n",
            "  Generator 5: Power = 0.00 MW, Status = 0\n",
            "\n",
            "Hour 8:\n",
            "  Generator 1: Power = 100.00 MW, Status = 1\n",
            "  Generator 2: Power = 43.00 MW, Status = 1\n",
            "  Generator 3: Power = 0.00 MW, Status = 0\n",
            "  Generator 4: Power = 0.00 MW, Status = 0\n",
            "  Generator 5: Power = 0.00 MW, Status = 0\n",
            "\n",
            "Hour 9:\n",
            "  Generator 1: Power = 54.00 MW, Status = 1\n",
            "  Generator 2: Power = 100.00 MW, Status = 1\n",
            "  Generator 3: Power = 0.00 MW, Status = 0\n",
            "  Generator 4: Power = 0.00 MW, Status = 0\n",
            "  Generator 5: Power = 0.00 MW, Status = 0\n",
            "\n",
            "Hour 10:\n",
            "  Generator 1: Power = 90.00 MW, Status = 1\n",
            "  Generator 2: Power = 20.00 MW, Status = 1\n",
            "  Generator 3: Power = 0.00 MW, Status = 0\n",
            "  Generator 4: Power = 0.00 MW, Status = 0\n",
            "  Generator 5: Power = 0.00 MW, Status = 0\n",
            "\n",
            "Hour 11:\n",
            "  Generator 1: Power = 100.00 MW, Status = 1\n",
            "  Generator 2: Power = 21.00 MW, Status = 1\n",
            "  Generator 3: Power = 0.00 MW, Status = 0\n",
            "  Generator 4: Power = 0.00 MW, Status = 0\n",
            "  Generator 5: Power = 0.00 MW, Status = 0\n",
            "\n",
            "Hour 12:\n",
            "  Generator 1: Power = 100.00 MW, Status = 1\n",
            "  Generator 2: Power = 32.00 MW, Status = 1\n",
            "  Generator 3: Power = 0.00 MW, Status = 0\n",
            "  Generator 4: Power = 0.00 MW, Status = 0\n",
            "  Generator 5: Power = 0.00 MW, Status = 0\n",
            "\n",
            "Hour 13:\n",
            "  Generator 1: Power = 100.00 MW, Status = 1\n",
            "  Generator 2: Power = 43.00 MW, Status = 1\n",
            "  Generator 3: Power = 0.00 MW, Status = 0\n",
            "  Generator 4: Power = 0.00 MW, Status = 0\n",
            "  Generator 5: Power = 0.00 MW, Status = 0\n",
            "\n",
            "Hour 14:\n",
            "  Generator 1: Power = 54.00 MW, Status = 1\n",
            "  Generator 2: Power = 100.00 MW, Status = 1\n",
            "  Generator 3: Power = 0.00 MW, Status = 0\n",
            "  Generator 4: Power = 0.00 MW, Status = 0\n",
            "  Generator 5: Power = 0.00 MW, Status = 0\n",
            "\n",
            "Hour 15:\n",
            "  Generator 1: Power = 90.00 MW, Status = 1\n",
            "  Generator 2: Power = 20.00 MW, Status = 1\n",
            "  Generator 3: Power = 0.00 MW, Status = 0\n",
            "  Generator 4: Power = 0.00 MW, Status = 0\n",
            "  Generator 5: Power = 0.00 MW, Status = 0\n",
            "\n",
            "Hour 16:\n",
            "  Generator 1: Power = 100.00 MW, Status = 1\n",
            "  Generator 2: Power = 21.00 MW, Status = 1\n",
            "  Generator 3: Power = 0.00 MW, Status = 0\n",
            "  Generator 4: Power = 0.00 MW, Status = 0\n",
            "  Generator 5: Power = 0.00 MW, Status = 0\n",
            "\n",
            "Hour 17:\n",
            "  Generator 1: Power = 100.00 MW, Status = 1\n",
            "  Generator 2: Power = 32.00 MW, Status = 1\n",
            "  Generator 3: Power = 0.00 MW, Status = 0\n",
            "  Generator 4: Power = 0.00 MW, Status = 0\n",
            "  Generator 5: Power = 0.00 MW, Status = 0\n",
            "\n",
            "Hour 18:\n",
            "  Generator 1: Power = 100.00 MW, Status = 1\n",
            "  Generator 2: Power = 43.00 MW, Status = 1\n",
            "  Generator 3: Power = 0.00 MW, Status = 0\n",
            "  Generator 4: Power = 0.00 MW, Status = 0\n",
            "  Generator 5: Power = 0.00 MW, Status = 0\n",
            "\n",
            "Hour 19:\n",
            "  Generator 1: Power = 54.00 MW, Status = 1\n",
            "  Generator 2: Power = 100.00 MW, Status = 1\n",
            "  Generator 3: Power = 0.00 MW, Status = 0\n",
            "  Generator 4: Power = 0.00 MW, Status = 0\n",
            "  Generator 5: Power = 0.00 MW, Status = 0\n",
            "\n",
            "Hour 20:\n",
            "  Generator 1: Power = 90.00 MW, Status = 1\n",
            "  Generator 2: Power = 20.00 MW, Status = 1\n",
            "  Generator 3: Power = 0.00 MW, Status = 0\n",
            "  Generator 4: Power = 0.00 MW, Status = 0\n",
            "  Generator 5: Power = 0.00 MW, Status = 0\n",
            "\n",
            "Hour 21:\n",
            "  Generator 1: Power = 100.00 MW, Status = 1\n",
            "  Generator 2: Power = 21.00 MW, Status = 1\n",
            "  Generator 3: Power = 0.00 MW, Status = 0\n",
            "  Generator 4: Power = 0.00 MW, Status = 0\n",
            "  Generator 5: Power = 0.00 MW, Status = 0\n",
            "\n",
            "Hour 22:\n",
            "  Generator 1: Power = 100.00 MW, Status = 1\n",
            "  Generator 2: Power = 32.00 MW, Status = 1\n",
            "  Generator 3: Power = 0.00 MW, Status = 0\n",
            "  Generator 4: Power = 0.00 MW, Status = 0\n",
            "  Generator 5: Power = 0.00 MW, Status = 0\n",
            "\n",
            "Hour 23:\n",
            "  Generator 1: Power = 100.00 MW, Status = 1\n",
            "  Generator 2: Power = 43.00 MW, Status = 1\n",
            "  Generator 3: Power = 0.00 MW, Status = 0\n",
            "  Generator 4: Power = 0.00 MW, Status = 0\n",
            "  Generator 5: Power = 0.00 MW, Status = 0\n",
            "\n",
            "Hour 24:\n",
            "  Generator 1: Power = 54.00 MW, Status = 1\n",
            "  Generator 2: Power = 100.00 MW, Status = 1\n",
            "  Generator 3: Power = 0.00 MW, Status = 0\n",
            "  Generator 4: Power = 0.00 MW, Status = 0\n",
            "  Generator 5: Power = 0.00 MW, Status = 0\n"
          ]
        }
      ]
    },
    {
      "cell_type": "markdown",
      "source": [
        "## Visualization"
      ],
      "metadata": {
        "id": "ek0fOtYkEtLE"
      }
    },
    {
      "cell_type": "code",
      "source": [
        "!pip uninstall -y pydrive2\n"
      ],
      "metadata": {
        "colab": {
          "base_uri": "https://localhost:8080/"
        },
        "id": "LJM0lSOuMPst",
        "outputId": "2232e37b-ed78-46f3-a590-a67640be6d17"
      },
      "execution_count": 28,
      "outputs": [
        {
          "output_type": "stream",
          "name": "stdout",
          "text": [
            "\u001b[33mWARNING: Skipping pydrive2 as it is not installed.\u001b[0m\u001b[33m\n",
            "\u001b[0m"
          ]
        }
      ]
    },
    {
      "cell_type": "code",
      "source": [
        "!pip install matplotlib pyomo\n"
      ],
      "metadata": {
        "colab": {
          "base_uri": "https://localhost:8080/"
        },
        "id": "bV6nNunFMT9v",
        "outputId": "687e33f0-5190-4ad7-c73a-c68ff06ddda7"
      },
      "execution_count": 29,
      "outputs": [
        {
          "output_type": "stream",
          "name": "stdout",
          "text": [
            "Requirement already satisfied: matplotlib in /usr/local/lib/python3.10/dist-packages (3.10.0)\n",
            "Requirement already satisfied: pyomo in /usr/local/lib/python3.10/dist-packages (6.8.2)\n",
            "Requirement already satisfied: contourpy>=1.0.1 in /usr/local/lib/python3.10/dist-packages (from matplotlib) (1.3.1)\n",
            "Requirement already satisfied: cycler>=0.10 in /usr/local/lib/python3.10/dist-packages (from matplotlib) (0.12.1)\n",
            "Requirement already satisfied: fonttools>=4.22.0 in /usr/local/lib/python3.10/dist-packages (from matplotlib) (4.55.3)\n",
            "Requirement already satisfied: kiwisolver>=1.3.1 in /usr/local/lib/python3.10/dist-packages (from matplotlib) (1.4.7)\n",
            "Requirement already satisfied: numpy>=1.23 in /usr/local/lib/python3.10/dist-packages (from matplotlib) (2.2.1)\n",
            "Requirement already satisfied: packaging>=20.0 in /usr/local/lib/python3.10/dist-packages (from matplotlib) (24.2)\n",
            "Requirement already satisfied: pillow>=8 in /usr/local/lib/python3.10/dist-packages (from matplotlib) (11.0.0)\n",
            "Requirement already satisfied: pyparsing>=2.3.1 in /usr/local/lib/python3.10/dist-packages (from matplotlib) (3.2.0)\n",
            "Requirement already satisfied: python-dateutil>=2.7 in /usr/local/lib/python3.10/dist-packages (from matplotlib) (2.8.2)\n",
            "Requirement already satisfied: ply in /usr/local/lib/python3.10/dist-packages (from pyomo) (3.11)\n",
            "Requirement already satisfied: six>=1.5 in /usr/local/lib/python3.10/dist-packages (from python-dateutil>=2.7->matplotlib) (1.17.0)\n"
          ]
        }
      ]
    },
    {
      "cell_type": "code",
      "source": [
        "!pip install --upgrade matplotlib pyomo\n"
      ],
      "metadata": {
        "colab": {
          "base_uri": "https://localhost:8080/"
        },
        "id": "vcn2TvCfM9w_",
        "outputId": "ccdbd5a0-5b70-4d52-8484-452f2cf9bc47"
      },
      "execution_count": 30,
      "outputs": [
        {
          "output_type": "stream",
          "name": "stdout",
          "text": [
            "Requirement already satisfied: matplotlib in /usr/local/lib/python3.10/dist-packages (3.10.0)\n",
            "Requirement already satisfied: pyomo in /usr/local/lib/python3.10/dist-packages (6.8.2)\n",
            "Requirement already satisfied: contourpy>=1.0.1 in /usr/local/lib/python3.10/dist-packages (from matplotlib) (1.3.1)\n",
            "Requirement already satisfied: cycler>=0.10 in /usr/local/lib/python3.10/dist-packages (from matplotlib) (0.12.1)\n",
            "Requirement already satisfied: fonttools>=4.22.0 in /usr/local/lib/python3.10/dist-packages (from matplotlib) (4.55.3)\n",
            "Requirement already satisfied: kiwisolver>=1.3.1 in /usr/local/lib/python3.10/dist-packages (from matplotlib) (1.4.7)\n",
            "Requirement already satisfied: numpy>=1.23 in /usr/local/lib/python3.10/dist-packages (from matplotlib) (2.2.1)\n",
            "Requirement already satisfied: packaging>=20.0 in /usr/local/lib/python3.10/dist-packages (from matplotlib) (24.2)\n",
            "Requirement already satisfied: pillow>=8 in /usr/local/lib/python3.10/dist-packages (from matplotlib) (11.0.0)\n",
            "Requirement already satisfied: pyparsing>=2.3.1 in /usr/local/lib/python3.10/dist-packages (from matplotlib) (3.2.0)\n",
            "Requirement already satisfied: python-dateutil>=2.7 in /usr/local/lib/python3.10/dist-packages (from matplotlib) (2.8.2)\n",
            "Requirement already satisfied: ply in /usr/local/lib/python3.10/dist-packages (from pyomo) (3.11)\n",
            "Requirement already satisfied: six>=1.5 in /usr/local/lib/python3.10/dist-packages (from python-dateutil>=2.7->matplotlib) (1.17.0)\n"
          ]
        }
      ]
    },
    {
      "cell_type": "code",
      "source": [
        "import matplotlib.pyplot as plt\n",
        "\n",
        "schedules = {i: [model.P[i, t].value for t in model.Time] for i in model.Generators}\n",
        "\n",
        "for i in model.Generators:\n",
        "    plt.plot(range(1, num_hours + 1), schedules[i], label=f\"Generator {i}\")\n",
        "\n",
        "plt.xlabel(\"Hour\")\n",
        "plt.ylabel(\"Power Output (MW)\")\n",
        "plt.title(\"Generator Schedules\")\n",
        "plt.legend()\n",
        "plt.grid()\n",
        "plt.show()"
      ],
      "metadata": {
        "colab": {
          "base_uri": "https://localhost:8080/",
          "height": 472
        },
        "id": "CgfSG4DJEwjg",
        "outputId": "bab61341-4182-4f1c-a759-91dd5eda82be"
      },
      "execution_count": 31,
      "outputs": [
        {
          "output_type": "display_data",
          "data": {
            "text/plain": [
              "<Figure size 640x480 with 1 Axes>"
            ],
            "image/png": "[encoded data removed]"
          },
          "metadata": {}
        }
      ]
    },
    {
      "cell_type": "markdown",
      "source": [
        "#Dataset: National Renewable Energy Laboratory (NREL) - Wind and Solar Resource Data"
      ],
      "metadata": {
        "id": "fpn6dt_WE3Ke"
      }
    },
    {
      "cell_type": "code",
      "source": [
        "import requests\n",
        "import pandas as pd\n",
        "\n",
        "# Replace with your NREL API Key\n",
        "api_key = \"fvj2ei4nfWzO5LIJ23ePgh998sy2Ce6f3IrU9bfS\"\n",
        "\n",
        "# Define API Endpoint and Parameters\n",
        "url = \"https://developer.nrel.gov/api/solar/nsrdb_psm3_download.csv\"\n",
        "\n",
        "# Use a sample location if no specific location is known\n",
        "params = {\n",
        "    \"wkt\": \"POINT(-104.9903 39.7392)\",  # Denver, CO coordinates (replace as needed)\n",
        "    \"names\": \"2020\",  # Year of data\n",
        "    \"interval\": \"60\",  # Data interval (60 minutes)\n",
        "    \"api_key\": api_key,\n",
        "    \"attributes\": \"ghi,dni,wind_speed\",  # Specify attributes: GHI, DNI, wind speed, etc.\n",
        "    \"utc\": \"true\",  # Use UTC time\n",
        "    \"email\": \"amin.parissa@gmail.com\",  # Replace with your registered email\n",
        "}\n",
        "\n",
        "# Fetch Data\n",
        "response = requests.get(url, params=params)\n",
        "\n",
        "if response.status_code == 200:\n",
        "    # Save the data to a CSV file\n",
        "    with open(\"nrel_data.csv\", \"w\") as file:\n",
        "        file.write(response.text)\n",
        "    print(\"Data downloaded successfully!\")\n",
        "\n",
        "    # Load the CSV into a Pandas DataFrame\n",
        "    df = pd.read_csv(\"nrel_data.csv\")\n",
        "    print(df.head())\n",
        "else:\n",
        "    print(\"Error:\", response.status_code, response.text)"
      ],
      "metadata": {
        "colab": {
          "base_uri": "https://localhost:8080/"
        },
        "id": "3ZejA86mE-Sn",
        "outputId": "92eec986-6e35-4889-92d5-f660b4c08216"
      },
      "execution_count": 32,
      "outputs": [
        {
          "output_type": "stream",
          "name": "stdout",
          "text": [
            "Data downloaded successfully!\n",
            "  Source Location ID City State Country Latitude Longitude   Time Zone  \\\n",
            "0  NSRDB      484137    -     -       -    39.73   -104.98           0   \n",
            "1   Year       Month  Day  Hour  Minute      GHI       DNI  Wind Speed   \n",
            "2   2020           1    1     0      30        0         0         2.6   \n",
            "3   2020           1    1     1      30        0         0         3.6   \n",
            "4   2020           1    1     2      30        0         0         4.4   \n",
            "\n",
            "   Elevation  Local Time Zone  ... Cloud Type 11 Cloud Type 12 Fill Flag 0  \\\n",
            "0     1604.0             -7.0  ...          Dust         Smoke         NaN   \n",
            "1        NaN              NaN  ...           NaN           NaN         NaN   \n",
            "2        NaN              NaN  ...           NaN           NaN         NaN   \n",
            "3        NaN              NaN  ...           NaN           NaN         NaN   \n",
            "4        NaN              NaN  ...           NaN           NaN         NaN   \n",
            "\n",
            "     Fill Flag 1     Fill Flag 2       Fill Flag 3               Fill Flag 4  \\\n",
            "0  Missing Image  Low Irradiance  Exceeds Clearsky  Missing CLoud Properties   \n",
            "1            NaN             NaN               NaN                       NaN   \n",
            "2            NaN             NaN               NaN                       NaN   \n",
            "3            NaN             NaN               NaN                       NaN   \n",
            "4            NaN             NaN               NaN                       NaN   \n",
            "\n",
            "          Fill Flag 5 Surface Albedo Units Version  \n",
            "0  Rayleigh Violation                  NaN   3.2.0  \n",
            "1                 NaN                  NaN     NaN  \n",
            "2                 NaN                  NaN     NaN  \n",
            "3                 NaN                  NaN     NaN  \n",
            "4                 NaN                  NaN     NaN  \n",
            "\n",
            "[5 rows x 46 columns]\n"
          ]
        }
      ]
    },
    {
      "cell_type": "markdown",
      "source": [
        "#Clean and Process the Data"
      ],
      "metadata": {
        "id": "dLeTnbopFDhE"
      }
    },
    {
      "cell_type": "code",
      "source": [
        "print(df.columns)  # the column names"
      ],
      "metadata": {
        "colab": {
          "base_uri": "https://localhost:8080/"
        },
        "id": "AW7DQxkvFH_o",
        "outputId": "00c7d3f4-acda-4924-ad45-99401d2bdd54"
      },
      "execution_count": 33,
      "outputs": [
        {
          "output_type": "stream",
          "name": "stdout",
          "text": [
            "Index(['Source', 'Location ID', 'City', 'State', 'Country', 'Latitude',\n",
            "       'Longitude', 'Time Zone', 'Elevation', 'Local Time Zone',\n",
            "       'Clearsky DHI Units', 'Clearsky DNI Units', 'Clearsky GHI Units',\n",
            "       'Dew Point Units', 'DHI Units', 'DNI Units', 'GHI Units',\n",
            "       'Solar Zenith Angle Units', 'Temperature Units', 'Pressure Units',\n",
            "       'Relative Humidity Units', 'Precipitable Water Units',\n",
            "       'Wind Direction Units', 'Wind Speed Units', 'Cloud Type -15',\n",
            "       'Cloud Type 0', 'Cloud Type 1', 'Cloud Type 2', 'Cloud Type 3',\n",
            "       'Cloud Type 4', 'Cloud Type 5', 'Cloud Type 6', 'Cloud Type 7',\n",
            "       'Cloud Type 8', 'Cloud Type 9', 'Cloud Type 10', 'Cloud Type 11',\n",
            "       'Cloud Type 12', 'Fill Flag 0', 'Fill Flag 1', 'Fill Flag 2',\n",
            "       'Fill Flag 3', 'Fill Flag 4', 'Fill Flag 5', 'Surface Albedo Units',\n",
            "       'Version'],\n",
            "      dtype='object')\n"
          ]
        }
      ]
    },
    {
      "cell_type": "code",
      "source": [
        "print(df.columns)\n",
        "print(f\"Number of columns in dataset: {len(df.columns)}\")"
      ],
      "metadata": {
        "colab": {
          "base_uri": "https://localhost:8080/"
        },
        "id": "HA2M0EAMFMl4",
        "outputId": "6d9f6024-5170-419d-db32-8e1077452960"
      },
      "execution_count": 34,
      "outputs": [
        {
          "output_type": "stream",
          "name": "stdout",
          "text": [
            "Index(['Source', 'Location ID', 'City', 'State', 'Country', 'Latitude',\n",
            "       'Longitude', 'Time Zone', 'Elevation', 'Local Time Zone',\n",
            "       'Clearsky DHI Units', 'Clearsky DNI Units', 'Clearsky GHI Units',\n",
            "       'Dew Point Units', 'DHI Units', 'DNI Units', 'GHI Units',\n",
            "       'Solar Zenith Angle Units', 'Temperature Units', 'Pressure Units',\n",
            "       'Relative Humidity Units', 'Precipitable Water Units',\n",
            "       'Wind Direction Units', 'Wind Speed Units', 'Cloud Type -15',\n",
            "       'Cloud Type 0', 'Cloud Type 1', 'Cloud Type 2', 'Cloud Type 3',\n",
            "       'Cloud Type 4', 'Cloud Type 5', 'Cloud Type 6', 'Cloud Type 7',\n",
            "       'Cloud Type 8', 'Cloud Type 9', 'Cloud Type 10', 'Cloud Type 11',\n",
            "       'Cloud Type 12', 'Fill Flag 0', 'Fill Flag 1', 'Fill Flag 2',\n",
            "       'Fill Flag 3', 'Fill Flag 4', 'Fill Flag 5', 'Surface Albedo Units',\n",
            "       'Version'],\n",
            "      dtype='object')\n",
            "Number of columns in dataset: 46\n"
          ]
        }
      ]
    },
    {
      "cell_type": "code",
      "source": [
        "import pandas as pd\n",
        "\n",
        "# Load the dataset\n",
        "df = pd.read_csv(\"nrel_data.csv\", skiprows=2)  # Skip metadata rows if necessary\n",
        "\n",
        "# Confirm column names and count\n",
        "print(\"Columns in the dataset:\", df.columns)\n",
        "print(f\"Number of columns: {len(df.columns)}\")\n",
        "\n",
        "# Rename columns for clarity (if needed)\n",
        "df.columns = ['Year', 'Month', 'Day', 'Hour', 'Minute', 'GHI', 'DNI', 'Wind Speed']\n",
        "\n",
        "# Select relevant columns\n",
        "relevant_columns = ['Year', 'Month', 'Day', 'Hour', 'Minute', 'GHI', 'DNI', 'Wind Speed']\n",
        "df = df[relevant_columns]\n",
        "\n",
        "# Convert to numeric and handle missing values\n",
        "df = df.apply(pd.to_numeric, errors='coerce').dropna()\n",
        "\n",
        "# Preview the cleaned dataset\n",
        "print(\"Cleaned Dataset Preview:\")\n",
        "print(df.head())\n",
        "\n",
        "# Save the cleaned data for further analysis\n",
        "df.to_csv(\"cleaned_nrel_data.csv\", index=False)\n",
        "print(\"Cleaned dataset saved to 'cleaned_nrel_data.csv'\")"
      ],
      "metadata": {
        "colab": {
          "base_uri": "https://localhost:8080/"
        },
        "id": "wvoZiTmnFQb5",
        "outputId": "dbb6b44d-a4c0-4476-baa5-e34ae6eba226"
      },
      "execution_count": 35,
      "outputs": [
        {
          "output_type": "stream",
          "name": "stdout",
          "text": [
            "Columns in the dataset: Index(['Year', 'Month', 'Day', 'Hour', 'Minute', 'GHI', 'DNI', 'Wind Speed'], dtype='object')\n",
            "Number of columns: 8\n",
            "Cleaned Dataset Preview:\n",
            "   Year  Month  Day  Hour  Minute  GHI  DNI  Wind Speed\n",
            "0  2020      1    1     0      30    0    0         2.6\n",
            "1  2020      1    1     1      30    0    0         3.6\n",
            "2  2020      1    1     2      30    0    0         4.4\n",
            "3  2020      1    1     3      30    0    0         5.2\n",
            "4  2020      1    1     4      30    0    0         5.6\n",
            "Cleaned dataset saved to 'cleaned_nrel_data.csv'\n"
          ]
        }
      ]
    },
    {
      "cell_type": "markdown",
      "source": [
        "#Integrating Data into UCP Model"
      ],
      "metadata": {
        "id": "3DWdoh6SFT68"
      }
    },
    {
      "cell_type": "code",
      "source": [
        "# Aggregate data to hourly intervals\n",
        "df['Datetime'] = pd.to_datetime(df[['Year', 'Month', 'Day', 'Hour', 'Minute']])\n",
        "df_hourly = df.resample('H', on='Datetime').mean()\n",
        "\n",
        "# Drop unnecessary columns\n",
        "df_hourly = df_hourly[['GHI', 'DNI', 'Wind Speed']]\n",
        "print(df_hourly.head())\n",
        "\n",
        "# Save data\n",
        "df_hourly.to_csv(\"aggregated_nrel_data.csv\")\n",
        "print(\"Aggregated data saved to 'aggregated_nrel_data.csv'\")"
      ],
      "metadata": {
        "colab": {
          "base_uri": "https://localhost:8080/"
        },
        "id": "OqyhdiA7FXJ4",
        "outputId": "59a8c7ca-f8c4-443f-b1f3-d6a56faaa96b"
      },
      "execution_count": 36,
      "outputs": [
        {
          "output_type": "stream",
          "name": "stdout",
          "text": [
            "                     GHI  DNI  Wind Speed\n",
            "Datetime                                 \n",
            "2020-01-01 00:00:00  0.0  0.0         2.6\n",
            "2020-01-01 01:00:00  0.0  0.0         3.6\n",
            "2020-01-01 02:00:00  0.0  0.0         4.4\n",
            "2020-01-01 03:00:00  0.0  0.0         5.2\n",
            "2020-01-01 04:00:00  0.0  0.0         5.6\n",
            "Aggregated data saved to 'aggregated_nrel_data.csv'\n"
          ]
        },
        {
          "output_type": "stream",
          "name": "stderr",
          "text": [
            "<ipython-input-36-26b3f43c031c>:3: FutureWarning: 'H' is deprecated and will be removed in a future version, please use 'h' instead.\n",
            "  df_hourly = df.resample('H', on='Datetime').mean()\n"
          ]
        }
      ]
    },
    {
      "cell_type": "markdown",
      "source": [
        "#Machine Learning Integration"
      ],
      "metadata": {
        "id": "WRJEtfI1FfGC"
      }
    },
    {
      "cell_type": "code",
      "source": [
        "!pip uninstall -y pydrive2\n"
      ],
      "metadata": {
        "colab": {
          "base_uri": "https://localhost:8080/"
        },
        "id": "mAA6XiPNK6Hz",
        "outputId": "3669c99d-9f0d-414d-acf1-816c0cbaa23c"
      },
      "execution_count": 37,
      "outputs": [
        {
          "output_type": "stream",
          "name": "stdout",
          "text": [
            "\u001b[33mWARNING: Skipping pydrive2 as it is not installed.\u001b[0m\u001b[33m\n",
            "\u001b[0m"
          ]
        }
      ]
    },
    {
      "cell_type": "code",
      "source": [
        "!pip install --upgrade scikit-learn pandas numpy pyomo\n"
      ],
      "metadata": {
        "colab": {
          "base_uri": "https://localhost:8080/"
        },
        "id": "2grJH2nRK-vX",
        "outputId": "eeef5085-780e-466b-af4d-637c9007909b"
      },
      "execution_count": 38,
      "outputs": [
        {
          "output_type": "stream",
          "name": "stdout",
          "text": [
            "Requirement already satisfied: scikit-learn in /usr/local/lib/python3.10/dist-packages (1.6.0)\n",
            "Requirement already satisfied: pandas in /usr/local/lib/python3.10/dist-packages (2.2.3)\n",
            "Requirement already satisfied: numpy in /usr/local/lib/python3.10/dist-packages (2.2.1)\n",
            "Requirement already satisfied: pyomo in /usr/local/lib/python3.10/dist-packages (6.8.2)\n",
            "Requirement already satisfied: scipy>=1.6.0 in /usr/local/lib/python3.10/dist-packages (from scikit-learn) (1.13.1)\n",
            "Requirement already satisfied: joblib>=1.2.0 in /usr/local/lib/python3.10/dist-packages (from scikit-learn) (1.4.2)\n",
            "Requirement already satisfied: threadpoolctl>=3.1.0 in /usr/local/lib/python3.10/dist-packages (from scikit-learn) (3.5.0)\n",
            "Requirement already satisfied: python-dateutil>=2.8.2 in /usr/local/lib/python3.10/dist-packages (from pandas) (2.8.2)\n",
            "Requirement already satisfied: pytz>=2020.1 in /usr/local/lib/python3.10/dist-packages (from pandas) (2024.2)\n",
            "Requirement already satisfied: tzdata>=2022.7 in /usr/local/lib/python3.10/dist-packages (from pandas) (2024.2)\n",
            "Requirement already satisfied: ply in /usr/local/lib/python3.10/dist-packages (from pyomo) (3.11)\n",
            "Requirement already satisfied: six>=1.5 in /usr/local/lib/python3.10/dist-packages (from python-dateutil>=2.8.2->pandas) (1.17.0)\n"
          ]
        }
      ]
    },
    {
      "cell_type": "code",
      "source": [
        "!pip uninstall -y pydrive2 pyomo\n"
      ],
      "metadata": {
        "colab": {
          "base_uri": "https://localhost:8080/"
        },
        "id": "wy6c2LOnOkCy",
        "outputId": "9ed45f8a-6f4f-4bf5-fbb8-6069e9568e44"
      },
      "execution_count": 39,
      "outputs": [
        {
          "output_type": "stream",
          "name": "stdout",
          "text": [
            "\u001b[33mWARNING: Skipping pydrive2 as it is not installed.\u001b[0m\u001b[33m\n",
            "\u001b[0mFound existing installation: Pyomo 6.8.2\n",
            "Uninstalling Pyomo-6.8.2:\n",
            "  Successfully uninstalled Pyomo-6.8.2\n"
          ]
        }
      ]
    },
    {
      "cell_type": "code",
      "source": [
        "!pip install pyomo\n"
      ],
      "metadata": {
        "colab": {
          "base_uri": "https://localhost:8080/",
          "height": 217
        },
        "id": "DU5ETeOzOpF3",
        "outputId": "c027d0dc-4629-45ae-cb51-549db5c23345"
      },
      "execution_count": 40,
      "outputs": [
        {
          "output_type": "stream",
          "name": "stdout",
          "text": [
            "Collecting pyomo\n",
            "  Using cached Pyomo-6.8.2-cp310-cp310-manylinux_2_17_x86_64.manylinux2014_x86_64.whl.metadata (8.0 kB)\n",
            "Requirement already satisfied: ply in /usr/local/lib/python3.10/dist-packages (from pyomo) (3.11)\n",
            "Using cached Pyomo-6.8.2-cp310-cp310-manylinux_2_17_x86_64.manylinux2014_x86_64.whl (13.4 MB)\n",
            "Installing collected packages: pyomo\n",
            "Successfully installed pyomo-6.8.2\n"
          ]
        },
        {
          "output_type": "display_data",
          "data": {
            "application/vnd.colab-display-data+json": {
              "pip_warning": {
                "packages": [
                  "pyomo"
                ]
              },
              "id": "cb63b6b8c88740beaefdab3e3ab66484"
            }
          },
          "metadata": {}
        }
      ]
    },
    {
      "cell_type": "code",
      "source": [
        "!pip install --upgrade scikit-learn pandas numpy\n"
      ],
      "metadata": {
        "colab": {
          "base_uri": "https://localhost:8080/"
        },
        "id": "kFZrmeuLPCGh",
        "outputId": "057aaefa-411a-49bc-a637-9f028b4d5bdd"
      },
      "execution_count": 1,
      "outputs": [
        {
          "output_type": "stream",
          "name": "stdout",
          "text": [
            "Requirement already satisfied: scikit-learn in /usr/local/lib/python3.10/dist-packages (1.6.0)\n",
            "Requirement already satisfied: pandas in /usr/local/lib/python3.10/dist-packages (2.2.3)\n",
            "Requirement already satisfied: numpy in /usr/local/lib/python3.10/dist-packages (2.2.1)\n",
            "Requirement already satisfied: scipy>=1.6.0 in /usr/local/lib/python3.10/dist-packages (from scikit-learn) (1.13.1)\n",
            "Requirement already satisfied: joblib>=1.2.0 in /usr/local/lib/python3.10/dist-packages (from scikit-learn) (1.4.2)\n",
            "Requirement already satisfied: threadpoolctl>=3.1.0 in /usr/local/lib/python3.10/dist-packages (from scikit-learn) (3.5.0)\n",
            "Requirement already satisfied: python-dateutil>=2.8.2 in /usr/local/lib/python3.10/dist-packages (from pandas) (2.8.2)\n",
            "Requirement already satisfied: pytz>=2020.1 in /usr/local/lib/python3.10/dist-packages (from pandas) (2024.2)\n",
            "Requirement already satisfied: tzdata>=2022.7 in /usr/local/lib/python3.10/dist-packages (from pandas) (2024.2)\n",
            "Requirement already satisfied: six>=1.5 in /usr/local/lib/python3.10/dist-packages (from python-dateutil>=2.8.2->pandas) (1.17.0)\n"
          ]
        }
      ]
    },
    {
      "cell_type": "code",
      "source": [
        "import pandas as pd\n",
        "import numpy as np\n",
        "from sklearn.ensemble import RandomForestRegressor\n",
        "from sklearn.model_selection import train_test_split\n",
        "from sklearn.metrics import mean_squared_error\n",
        "from pyomo.environ import *\n",
        "\n",
        "\n",
        "df_hourly = pd.read_csv(\"aggregated_nrel_data.csv\", parse_dates=[\"Datetime\"], index_col=\"Datetime\")\n",
        "\n",
        "\n",
        "base_demand = 100 + 20 * np.sin(2 * np.pi * df_hourly.index.hour / 24)\n",
        "\n",
        "\n",
        "solar_efficiency = 0.2\n",
        "wind_efficiency = 0.3\n",
        "\n",
        "# Calculate renewable generation and net demand\n",
        "df_hourly['Renewable_Generation'] = df_hourly['GHI'] * solar_efficiency + df_hourly['Wind Speed'] * wind_efficiency\n",
        "df_hourly['Base_Demand'] = base_demand\n",
        "df_hourly['Net_Demand'] = df_hourly['Base_Demand'] - df_hourly['Renewable_Generation']"
      ],
      "metadata": {
        "id": "svrqJsjSFic9"
      },
      "execution_count": 2,
      "outputs": []
    },
    {
      "cell_type": "code",
      "source": [
        "# Features and target\n",
        "features = df_hourly[['GHI', 'Wind Speed']].copy()\n",
        "features['Hour'] = df_hourly.index.hour\n",
        "features['DayOfWeek'] = df_hourly.index.dayofweek\n",
        "features['Month'] = df_hourly.index.month\n",
        "\n",
        "target = df_hourly['Net_Demand']"
      ],
      "metadata": {
        "id": "CluloBPpPQGc"
      },
      "execution_count": 3,
      "outputs": []
    },
    {
      "cell_type": "code",
      "source": [
        "# Check for missing values in the target variable\n",
        "print(\"Number of missing values in target:\", target.isna().sum())\n",
        "\n",
        "# Drop rows with missing Net_Demand\n",
        "data_cleaned = df_hourly.dropna(subset=['Net_Demand'])\n",
        "print(\"Data cleaned. Rows remaining:\", len(data_cleaned))\n",
        "\n",
        "# Update features and target\n",
        "features = data_cleaned[['GHI', 'Wind Speed']].copy()\n",
        "features['Hour'] = data_cleaned.index.hour\n",
        "features['DayOfWeek'] = data_cleaned.index.dayofweek\n",
        "features['Month'] = data_cleaned.index.month\n",
        "\n",
        "target = data_cleaned['Net_Demand']\n",
        "\n",
        "# Split data into train and test sets\n",
        "X_train, X_test, y_train, y_test = train_test_split(features, target, test_size=0.2, random_state=42)\n",
        "\n",
        "# Train a Random Forest Regressor\n",
        "rf_model = RandomForestRegressor(n_estimators=100, random_state=42)\n",
        "rf_model.fit(X_train, y_train)\n",
        "\n",
        "# Evaluate the model\n",
        "predictions = rf_model.predict(X_test)\n",
        "mse = mean_squared_error(y_test, predictions)\n",
        "print(f\"Mean Squared Error: {mse}\")\n",
        "\n"
      ],
      "metadata": {
        "colab": {
          "base_uri": "https://localhost:8080/"
        },
        "id": "JP4n-gn8PgKm",
        "outputId": "63141e87-d5cc-49f0-c873-2a5216b18de9"
      },
      "execution_count": 5,
      "outputs": [
        {
          "output_type": "stream",
          "name": "stdout",
          "text": [
            "Number of missing values in target: 24\n",
            "Data cleaned. Rows remaining: 8760\n",
            "Mean Squared Error: 0.26993398486302206\n"
          ]
        }
      ]
    },
    {
      "cell_type": "code",
      "source": [
        "# Step 3: Forecast Demand for the Next 24 Hours\n",
        "\n",
        "latest_features = features.iloc[-24:]\n",
        "predicted_demand = rf_model.predict(latest_features)\n"
      ],
      "metadata": {
        "id": "rUvTvVh6TSHW"
      },
      "execution_count": 7,
      "outputs": []
    },
    {
      "cell_type": "markdown",
      "source": [
        "#Integrating ML Predictions into the UCP Model"
      ],
      "metadata": {
        "id": "BTNQuS16UNoK"
      }
    },
    {
      "cell_type": "code",
      "source": [
        "\n",
        "# Define the UCP model\n",
        "num_generators = 5\n",
        "num_hours = 24\n",
        "\n",
        "model = ConcreteModel()\n",
        "model.Generators = RangeSet(num_generators)\n",
        "model.Time = RangeSet(num_hours)"
      ],
      "metadata": {
        "id": "FkKjJXHpTshx"
      },
      "execution_count": 9,
      "outputs": []
    },
    {
      "cell_type": "code",
      "source": [
        "# Generator parameters\n",
        "min_output = {i: 20 for i in model.Generators}\n",
        "max_output = {i: 100 for i in model.Generators}\n",
        "startup_cost = {i: 200 for i in model.Generators}\n",
        "shutdown_cost = {i: 100 for i in model.Generators}\n",
        "operating_cost = {i: 10 for i in model.Generators}\n",
        "\n",
        "# Variables\n",
        "model.P = Var(model.Generators, model.Time, within=NonNegativeReals)\n",
        "model.u = Var(model.Generators, model.Time, within=Binary)\n",
        "model.v = Var(model.Generators, model.Time, within=Binary)\n",
        "model.w = Var(model.Generators, model.Time, within=Binary)"
      ],
      "metadata": {
        "id": "D6GBwGArUaC1"
      },
      "execution_count": 10,
      "outputs": []
    },
    {
      "cell_type": "code",
      "source": [
        "# Objective function\n",
        "def total_cost(model):\n",
        "    op_cost = sum(\n",
        "        model.P[i, t] * operating_cost[i] for i in model.Generators for t in model.Time\n",
        "    )\n",
        "    start_cost = sum(\n",
        "        model.v[i, t] * startup_cost[i] for i in model.Generators for t in model.Time\n",
        "    )\n",
        "    shut_cost = sum(\n",
        "        model.w[i, t] * shutdown_cost[i] for i in model.Generators for t in model.Time\n",
        "    )\n",
        "    return op_cost + start_cost + shut_cost\n",
        "\n",
        "model.Objective = Objective(rule=total_cost, sense=minimize)"
      ],
      "metadata": {
        "id": "0TpmxtW-UeDk"
      },
      "execution_count": 11,
      "outputs": []
    },
    {
      "cell_type": "markdown",
      "source": [
        "#Constraints"
      ],
      "metadata": {
        "id": "kS5R6UYuUhzr"
      }
    },
    {
      "cell_type": "code",
      "source": [
        "\n",
        "predicted_demand_dict = {t: predicted_demand[t - 1] for t in model.Time}\n",
        "\n",
        "def demand_constraint(model, t):\n",
        "    return sum(model.P[i, t] for i in model.Generators) >= predicted_demand_dict[t]\n",
        "\n",
        "model.DemandConstraint = Constraint(model.Time, rule=demand_constraint)"
      ],
      "metadata": {
        "id": "8I6pt6EGUpUq"
      },
      "execution_count": 12,
      "outputs": []
    },
    {
      "cell_type": "code",
      "source": [
        "# Generator limits\n",
        "def generator_min_limit(model, i, t):\n",
        "    return model.P[i, t] >= model.u[i, t] * min_output[i]\n",
        "\n",
        "def generator_max_limit(model, i, t):\n",
        "    return model.P[i, t] <= model.u[i, t] * max_output[i]\n",
        "\n",
        "model.GeneratorMinLimit = Constraint(model.Generators, model.Time, rule=generator_min_limit)\n",
        "model.GeneratorMaxLimit = Constraint(model.Generators, model.Time, rule=generator_max_limit)"
      ],
      "metadata": {
        "id": "yhho_jF-Ux24"
      },
      "execution_count": 13,
      "outputs": []
    },
    {
      "cell_type": "code",
      "source": [
        "\n",
        "def startup_shutdown_rule(model, i, t):\n",
        "    if t == 1:\n",
        "        return Constraint.Skip\n",
        "    return model.u[i, t] - model.u[i, t - 1] == model.v[i, t] - model.w[i, t]\n",
        "\n",
        "model.StartupShutdown = Constraint(model.Generators, model.Time, rule=startup_shutdown_rule)"
      ],
      "metadata": {
        "id": "_N9hi0fjU32z"
      },
      "execution_count": 14,
      "outputs": []
    },
    {
      "cell_type": "code",
      "source": [
        "!apt-get install -y glpk-utils"
      ],
      "metadata": {
        "colab": {
          "base_uri": "https://localhost:8080/"
        },
        "id": "R_puCsw8U8HD",
        "outputId": "c3653c0c-c20c-458d-83aa-44c2d71c4ec4"
      },
      "execution_count": 16,
      "outputs": [
        {
          "output_type": "stream",
          "name": "stdout",
          "text": [
            "Reading package lists... Done\n",
            "Building dependency tree... Done\n",
            "Reading state information... Done\n",
            "glpk-utils is already the newest version (5.0-1).\n",
            "0 upgraded, 0 newly installed, 0 to remove and 49 not upgraded.\n"
          ]
        }
      ]
    },
    {
      "cell_type": "code",
      "source": [
        "\n",
        "!which glpsol"
      ],
      "metadata": {
        "colab": {
          "base_uri": "https://localhost:8080/"
        },
        "id": "Lm9mnLTXVDAL",
        "outputId": "df443b55-daab-4374-ec2c-279de9bcf62b"
      },
      "execution_count": 17,
      "outputs": [
        {
          "output_type": "stream",
          "name": "stdout",
          "text": [
            "/usr/bin/glpsol\n"
          ]
        }
      ]
    },
    {
      "cell_type": "code",
      "source": [
        "solver = SolverFactory(\"glpk\", executable=\"/usr/bin/glpsol\")  # Adjust the path if necessary\n",
        "results = solver.solve(model)\n",
        "\n",
        "# Display results\n",
        "print(\"Total Cost:\", model.Objective())\n",
        "for t in model.Time:\n",
        "    print(f\"Hour {t}:\")\n",
        "    for i in model.Generators:\n",
        "        print(\n",
        "            f\"  Generator {i}: Power = {model.P[i, t].value:.2f} MW, Status = {int(model.u[i, t].value)}\"\n",
        "        )"
      ],
      "metadata": {
        "colab": {
          "base_uri": "https://localhost:8080/"
        },
        "id": "T5nz6VyzVILj",
        "outputId": "f3503962-5742-4b5f-b602-8c50c337ad1f"
      },
      "execution_count": 18,
      "outputs": [
        {
          "output_type": "stream",
          "name": "stdout",
          "text": [
            "Total Cost: 19164.245668116844\n",
            "Hour 1:\n",
            "  Generator 1: Power = 79.58 MW, Status = 1\n",
            "  Generator 2: Power = 0.00 MW, Status = 0\n",
            "  Generator 3: Power = 0.00 MW, Status = 0\n",
            "  Generator 4: Power = 0.00 MW, Status = 0\n",
            "  Generator 5: Power = 20.00 MW, Status = 1\n",
            "Hour 2:\n",
            "  Generator 1: Power = 84.55 MW, Status = 1\n",
            "  Generator 2: Power = 0.00 MW, Status = 0\n",
            "  Generator 3: Power = 0.00 MW, Status = 0\n",
            "  Generator 4: Power = 0.00 MW, Status = 0\n",
            "  Generator 5: Power = 20.00 MW, Status = 1\n",
            "Hour 3:\n",
            "  Generator 1: Power = 20.00 MW, Status = 1\n",
            "  Generator 2: Power = 0.00 MW, Status = 0\n",
            "  Generator 3: Power = 0.00 MW, Status = 0\n",
            "  Generator 4: Power = 0.00 MW, Status = 0\n",
            "  Generator 5: Power = 89.21 MW, Status = 1\n",
            "Hour 4:\n",
            "  Generator 1: Power = 20.00 MW, Status = 1\n",
            "  Generator 2: Power = 0.00 MW, Status = 0\n",
            "  Generator 3: Power = 0.00 MW, Status = 0\n",
            "  Generator 4: Power = 0.00 MW, Status = 0\n",
            "  Generator 5: Power = 93.24 MW, Status = 1\n",
            "Hour 5:\n",
            "  Generator 1: Power = 20.00 MW, Status = 1\n",
            "  Generator 2: Power = 0.00 MW, Status = 0\n",
            "  Generator 3: Power = 0.00 MW, Status = 0\n",
            "  Generator 4: Power = 0.00 MW, Status = 0\n",
            "  Generator 5: Power = 96.36 MW, Status = 1\n",
            "Hour 6:\n",
            "  Generator 1: Power = 20.00 MW, Status = 1\n",
            "  Generator 2: Power = 0.00 MW, Status = 0\n",
            "  Generator 3: Power = 0.00 MW, Status = 0\n",
            "  Generator 4: Power = 0.00 MW, Status = 0\n",
            "  Generator 5: Power = 98.30 MW, Status = 1\n",
            "Hour 7:\n",
            "  Generator 1: Power = 98.97 MW, Status = 1\n",
            "  Generator 2: Power = 0.00 MW, Status = 0\n",
            "  Generator 3: Power = 0.00 MW, Status = 0\n",
            "  Generator 4: Power = 0.00 MW, Status = 0\n",
            "  Generator 5: Power = 20.00 MW, Status = 1\n",
            "Hour 8:\n",
            "  Generator 1: Power = 98.36 MW, Status = 1\n",
            "  Generator 2: Power = 0.00 MW, Status = 0\n",
            "  Generator 3: Power = 0.00 MW, Status = 0\n",
            "  Generator 4: Power = 0.00 MW, Status = 0\n",
            "  Generator 5: Power = 20.00 MW, Status = 1\n",
            "Hour 9:\n",
            "  Generator 1: Power = 96.42 MW, Status = 1\n",
            "  Generator 2: Power = 0.00 MW, Status = 0\n",
            "  Generator 3: Power = 0.00 MW, Status = 0\n",
            "  Generator 4: Power = 0.00 MW, Status = 0\n",
            "  Generator 5: Power = 20.00 MW, Status = 1\n",
            "Hour 10:\n",
            "  Generator 1: Power = 93.24 MW, Status = 1\n",
            "  Generator 2: Power = 0.00 MW, Status = 0\n",
            "  Generator 3: Power = 0.00 MW, Status = 0\n",
            "  Generator 4: Power = 0.00 MW, Status = 0\n",
            "  Generator 5: Power = 20.00 MW, Status = 1\n",
            "Hour 11:\n",
            "  Generator 1: Power = 89.10 MW, Status = 1\n",
            "  Generator 2: Power = 0.00 MW, Status = 0\n",
            "  Generator 3: Power = 0.00 MW, Status = 0\n",
            "  Generator 4: Power = 0.00 MW, Status = 0\n",
            "  Generator 5: Power = 20.00 MW, Status = 1\n",
            "Hour 12:\n",
            "  Generator 1: Power = 84.34 MW, Status = 1\n",
            "  Generator 2: Power = 0.00 MW, Status = 0\n",
            "  Generator 3: Power = 0.00 MW, Status = 0\n",
            "  Generator 4: Power = 0.00 MW, Status = 0\n",
            "  Generator 5: Power = 20.00 MW, Status = 1\n",
            "Hour 13:\n",
            "  Generator 1: Power = 79.25 MW, Status = 1\n",
            "  Generator 2: Power = 0.00 MW, Status = 0\n",
            "  Generator 3: Power = 0.00 MW, Status = 0\n",
            "  Generator 4: Power = 0.00 MW, Status = 0\n",
            "  Generator 5: Power = 20.00 MW, Status = 1\n",
            "Hour 14:\n",
            "  Generator 1: Power = 74.16 MW, Status = 1\n",
            "  Generator 2: Power = 0.00 MW, Status = 0\n",
            "  Generator 3: Power = 0.00 MW, Status = 0\n",
            "  Generator 4: Power = 0.00 MW, Status = 0\n",
            "  Generator 5: Power = 20.00 MW, Status = 1\n",
            "Hour 15:\n",
            "  Generator 1: Power = 67.82 MW, Status = 1\n",
            "  Generator 2: Power = 0.00 MW, Status = 0\n",
            "  Generator 3: Power = 0.00 MW, Status = 0\n",
            "  Generator 4: Power = 0.00 MW, Status = 0\n",
            "  Generator 5: Power = 20.00 MW, Status = 1\n",
            "Hour 16:\n",
            "  Generator 1: Power = 33.42 MW, Status = 1\n",
            "  Generator 2: Power = 0.00 MW, Status = 0\n",
            "  Generator 3: Power = 0.00 MW, Status = 0\n",
            "  Generator 4: Power = 0.00 MW, Status = 0\n",
            "  Generator 5: Power = 20.00 MW, Status = 1\n",
            "Hour 17:\n",
            "  Generator 1: Power = 0.00 MW, Status = 0\n",
            "  Generator 2: Power = 0.00 MW, Status = 0\n",
            "  Generator 3: Power = 0.00 MW, Status = 0\n",
            "  Generator 4: Power = 0.00 MW, Status = 0\n",
            "  Generator 5: Power = 20.00 MW, Status = 1\n",
            "Hour 18:\n",
            "  Generator 1: Power = 0.00 MW, Status = 0\n",
            "  Generator 2: Power = 0.00 MW, Status = 0\n",
            "  Generator 3: Power = 0.00 MW, Status = 0\n",
            "  Generator 4: Power = 0.00 MW, Status = 0\n",
            "  Generator 5: Power = 0.00 MW, Status = 0\n",
            "Hour 19:\n",
            "  Generator 1: Power = 0.00 MW, Status = 0\n",
            "  Generator 2: Power = 0.00 MW, Status = 0\n",
            "  Generator 3: Power = 0.00 MW, Status = 0\n",
            "  Generator 4: Power = 0.00 MW, Status = 0\n",
            "  Generator 5: Power = 0.00 MW, Status = 0\n",
            "Hour 20:\n",
            "  Generator 1: Power = 0.00 MW, Status = 0\n",
            "  Generator 2: Power = 0.00 MW, Status = 0\n",
            "  Generator 3: Power = 0.00 MW, Status = 0\n",
            "  Generator 4: Power = 0.00 MW, Status = 0\n",
            "  Generator 5: Power = 0.00 MW, Status = 0\n",
            "Hour 21:\n",
            "  Generator 1: Power = 0.00 MW, Status = 0\n",
            "  Generator 2: Power = 0.00 MW, Status = 0\n",
            "  Generator 3: Power = 0.00 MW, Status = 0\n",
            "  Generator 4: Power = 0.00 MW, Status = 0\n",
            "  Generator 5: Power = 0.00 MW, Status = 0\n",
            "Hour 22:\n",
            "  Generator 1: Power = 0.00 MW, Status = 0\n",
            "  Generator 2: Power = 0.00 MW, Status = 0\n",
            "  Generator 3: Power = 25.28 MW, Status = 1\n",
            "  Generator 4: Power = 0.00 MW, Status = 0\n",
            "  Generator 5: Power = 0.00 MW, Status = 0\n",
            "Hour 23:\n",
            "  Generator 1: Power = 0.00 MW, Status = 0\n",
            "  Generator 2: Power = 0.00 MW, Status = 0\n",
            "  Generator 3: Power = 62.76 MW, Status = 1\n",
            "  Generator 4: Power = 0.00 MW, Status = 0\n",
            "  Generator 5: Power = 0.00 MW, Status = 0\n",
            "Hour 24:\n",
            "  Generator 1: Power = 0.00 MW, Status = 0\n",
            "  Generator 2: Power = 0.00 MW, Status = 0\n",
            "  Generator 3: Power = 92.07 MW, Status = 1\n",
            "  Generator 4: Power = 0.00 MW, Status = 0\n",
            "  Generator 5: Power = 0.00 MW, Status = 0\n"
          ]
        }
      ]
    },
    {
      "cell_type": "markdown",
      "source": [
        "#Visualizing the Results"
      ],
      "metadata": {
        "id": "GF8DJj7aVNlq"
      }
    },
    {
      "cell_type": "code",
      "source": [
        "import matplotlib.pyplot as plt\n",
        "\n",
        "# Extract data for plotting\n",
        "hours = list(model.Time)\n",
        "power_outputs = {i: [model.P[i, t].value for t in model.Time] for i in model.Generators}\n",
        "\n",
        "# Plot\n",
        "for gen, output in power_outputs.items():\n",
        "    plt.plot(hours, output, label=f\"Generator {gen}\")\n",
        "\n",
        "plt.xlabel(\"Hour\")\n",
        "plt.ylabel(\"Power Output (MW)\")\n",
        "plt.title(\"Generator Schedules\")\n",
        "plt.legend()\n",
        "plt.grid()\n",
        "plt.show()"
      ],
      "metadata": {
        "colab": {
          "base_uri": "https://localhost:8080/",
          "height": 472
        },
        "id": "ZpGVhdTEVQ14",
        "outputId": "317df792-917a-40f2-ec99-4371106c619c"
      },
      "execution_count": 19,
      "outputs": [
        {
          "output_type": "display_data",
          "data": {
            "text/plain": [
              "<Figure size 640x480 with 1 Axes>"
            ],
            "image/png": "[encoded data removed]"
          },
          "metadata": {}
        }
      ]
    },
    {
      "cell_type": "markdown",
      "source": [
        "#Plot Generator Status"
      ],
      "metadata": {
        "id": "ejlbb0GgVUqB"
      }
    },
    {
      "cell_type": "code",
      "source": [
        "statuses = {i: [model.u[i, t].value for t in model.Time] for i in model.Generators}\n",
        "\n",
        "for gen, status in statuses.items():\n",
        "    plt.step(hours, status, label=f\"Generator {gen}\")\n",
        "\n",
        "plt.xlabel(\"Hour\")\n",
        "plt.ylabel(\"Status (On/Off)\")\n",
        "plt.title(\"Generator On/Off Status\")\n",
        "plt.legend()\n",
        "plt.grid()\n",
        "plt.show()"
      ],
      "metadata": {
        "colab": {
          "base_uri": "https://localhost:8080/",
          "height": 472
        },
        "id": "yErx-fmxVXpy",
        "outputId": "dd1e26ab-db67-4e42-d5b9-7ce296620977"
      },
      "execution_count": 20,
      "outputs": [
        {
          "output_type": "display_data",
          "data": {
            "text/plain": [
              "<Figure size 640x480 with 1 Axes>"
            ],
            "image/png": "[encoded data removed]"
          },
          "metadata": {}
        }
      ]
    }
  ]
}