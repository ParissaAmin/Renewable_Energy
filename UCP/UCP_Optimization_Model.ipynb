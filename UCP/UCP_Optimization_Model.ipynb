{
  "nbformat": 4,
  "nbformat_minor": 0,
  "metadata": {
    "colab": {
      "provenance": [],
      "authorship_tag": "ABX9TyOrOuAfWRjgc+eQ2JnGKM3w",
      "include_colab_link": true
    },
    "kernelspec": {
      "name": "python3",
      "display_name": "Python 3"
    },
    "language_info": {
      "name": "python"
    }
  },
  "cells": [
    {
      "cell_type": "markdown",
      "metadata": {
        "id": "view-in-github",
        "colab_type": "text"
      },
      "source": [
        "<a href=\"https://colab.research.google.com/github/ParissaAmin/Renewable_Energy/blob/main/UCP/UCP_Optimization_Model.ipynb\" target=\"_parent\"><img src=\"https://colab.research.google.com/assets/colab-badge.svg\" alt=\"Open In Colab\"/></a>"
      ]
    },
    {
      "cell_type": "code",
      "execution_count": null,
      "metadata": {
        "colab": {
          "base_uri": "https://localhost:8080/"
        },
        "id": "R8qOlpC-3UZE",
        "outputId": "e43fbd58-7626-4b2d-f021-3383bc85c24f"
      },
      "outputs": [
        {
          "output_type": "stream",
          "name": "stdout",
          "text": [
            "Requirement already satisfied: pyomo in /usr/local/lib/python3.10/dist-packages (6.8.2)\n",
            "Requirement already satisfied: ply in /usr/local/lib/python3.10/dist-packages (from pyomo) (3.11)\n",
            "Selecting previously unselected package libsuitesparseconfig5:amd64.\n",
            "(Reading database ... 123634 files and directories currently installed.)\n",
            "Preparing to unpack .../libsuitesparseconfig5_1%3a5.10.1+dfsg-4build1_amd64.deb ...\n",
            "Unpacking libsuitesparseconfig5:amd64 (1:5.10.1+dfsg-4build1) ...\n",
            "Selecting previously unselected package libamd2:amd64.\n",
            "Preparing to unpack .../libamd2_1%3a5.10.1+dfsg-4build1_amd64.deb ...\n",
            "Unpacking libamd2:amd64 (1:5.10.1+dfsg-4build1) ...\n",
            "Selecting previously unselected package libcolamd2:amd64.\n",
            "Preparing to unpack .../libcolamd2_1%3a5.10.1+dfsg-4build1_amd64.deb ...\n",
            "Unpacking libcolamd2:amd64 (1:5.10.1+dfsg-4build1) ...\n",
            "Selecting previously unselected package libglpk40:amd64.\n",
            "Preparing to unpack .../libglpk40_5.0-1_amd64.deb ...\n",
            "Unpacking libglpk40:amd64 (5.0-1) ...\n",
            "Selecting previously unselected package glpk-utils.\n",
            "Preparing to unpack .../glpk-utils_5.0-1_amd64.deb ...\n",
            "Unpacking glpk-utils (5.0-1) ...\n",
            "Setting up libsuitesparseconfig5:amd64 (1:5.10.1+dfsg-4build1) ...\n",
            "Setting up libamd2:amd64 (1:5.10.1+dfsg-4build1) ...\n",
            "Setting up libcolamd2:amd64 (1:5.10.1+dfsg-4build1) ...\n",
            "Setting up libglpk40:amd64 (5.0-1) ...\n",
            "Setting up glpk-utils (5.0-1) ...\n",
            "Processing triggers for man-db (2.10.2-1) ...\n",
            "Processing triggers for libc-bin (2.35-0ubuntu3.4) ...\n",
            "/sbin/ldconfig.real: /usr/local/lib/libtcm_debug.so.1 is not a symbolic link\n",
            "\n",
            "/sbin/ldconfig.real: /usr/local/lib/libur_loader.so.0 is not a symbolic link\n",
            "\n",
            "/sbin/ldconfig.real: /usr/local/lib/libhwloc.so.15 is not a symbolic link\n",
            "\n",
            "/sbin/ldconfig.real: /usr/local/lib/libumf.so.0 is not a symbolic link\n",
            "\n",
            "/sbin/ldconfig.real: /usr/local/lib/libtbbmalloc_proxy.so.2 is not a symbolic link\n",
            "\n",
            "/sbin/ldconfig.real: /usr/local/lib/libtbbbind_2_0.so.3 is not a symbolic link\n",
            "\n",
            "/sbin/ldconfig.real: /usr/local/lib/libtbbbind.so.3 is not a symbolic link\n",
            "\n",
            "/sbin/ldconfig.real: /usr/local/lib/libtbbmalloc.so.2 is not a symbolic link\n",
            "\n",
            "/sbin/ldconfig.real: /usr/local/lib/libtbb.so.12 is not a symbolic link\n",
            "\n",
            "/sbin/ldconfig.real: /usr/local/lib/libtbbbind_2_5.so.3 is not a symbolic link\n",
            "\n",
            "/sbin/ldconfig.real: /usr/local/lib/libtcm.so.1 is not a symbolic link\n",
            "\n",
            "/sbin/ldconfig.real: /usr/local/lib/libur_adapter_level_zero.so.0 is not a symbolic link\n",
            "\n",
            "/sbin/ldconfig.real: /usr/local/lib/libur_adapter_opencl.so.0 is not a symbolic link\n",
            "\n"
          ]
        }
      ],
      "source": [
        "!pip install pyomo\n",
        "!apt-get install -y -qq glpk-utils\n"
      ]
    },
    {
      "cell_type": "markdown",
      "source": [
        "# Code for UCP Implementation\n",
        "\n"
      ],
      "metadata": {
        "id": "tgFlYQJbC0OG"
      }
    },
    {
      "cell_type": "markdown",
      "source": [
        "#Model Setup\n",
        "\n",
        "Model Creation:\n",
        "\n",
        "ConcreteModel() is used to create an instance of the optimization model.\n",
        "Sets:\n",
        "\n",
        "RangeSet(num_generators) defines a set of 5 generators, numbered 1 through 5.\n",
        "\n",
        "RangeSet(num_hours) defines a set of 24 hours for the scheduling period."
      ],
      "metadata": {
        "id": "u1FCzp6DIeHp"
      }
    },
    {
      "cell_type": "code",
      "source": [
        "from pyomo.environ import *\n",
        "\n",
        "# Create the model\n",
        "model = ConcreteModel()\n",
        "\n",
        "# Define sets\n",
        "num_generators = 5  # Number of generators\n",
        "num_hours = 24  # Number of hours in the time horizon\n",
        "\n",
        "model.Generators = RangeSet(num_generators)\n",
        "model.Time = RangeSet(num_hours)"
      ],
      "metadata": {
        "id": "Dp3KpGCSC3Tt"
      },
      "execution_count": null,
      "outputs": []
    },
    {
      "cell_type": "markdown",
      "source": [
        "#Parameter Definitions\n",
        "\n",
        "\n",
        "Generator Parameters:\n",
        "\n",
        "Each generator has fixed minimum and maximum power outputs.\n",
        "\n",
        "Costs for starting up, shutting down, and operating are defined for each generator.\n",
        "\n",
        "Demand Profile:\n",
        "Simulates hourly demand with periodic variations (increasing every 5 hours).\n",
        "Reserve Factor:\n",
        "Specifies that 10% of the demand is held as reserve capacity.\n"
      ],
      "metadata": {
        "id": "qRbiNfmmIEqC"
      }
    },
    {
      "cell_type": "code",
      "source": [
        "# Define synthetic parameters for generators\n",
        "min_output = {i: 20 for i in model.Generators}  # Minimum power output (MW)\n",
        "max_output = {i: 100 for i in model.Generators}  # Maximum power output (MW)\n",
        "startup_cost = {i: 200 for i in model.Generators}  # Startup cost ($)\n",
        "shutdown_cost = {i: 100 for i in model.Generators}  # Shutdown cost ($)\n",
        "operating_cost = {i: 10 for i in model.Generators}  # Operating cost per MW ($)"
      ],
      "metadata": {
        "id": "7ytf11viDbtp"
      },
      "execution_count": null,
      "outputs": []
    },
    {
      "cell_type": "code",
      "source": [
        "# Define synthetic demand data (MW) for 24 hours\n",
        "demand = {\n",
        "    t: 100 + 10 * (t % 5) for t in model.Time\n",
        "}  # Example demand profile with periodic variation\n",
        "\n",
        "# Reserve requirement (10% of demand)\n",
        "reserve_factor = 0.1"
      ],
      "metadata": {
        "id": "B_SWcOM6DYoa"
      },
      "execution_count": null,
      "outputs": []
    },
    {
      "cell_type": "markdown",
      "source": [
        "#Variables\n",
        "\n",
        "Explanation:\n",
        "\n",
        "Power Output:\n",
        "model.P: Continuous variable for the power generated by each generator in each hour.\n",
        "Binary Status Variables:\n",
        "model.u: Indicates whether a generator is ON (1) or OFF (0).\n",
        "model.v: Startup status (1 if started up in the current hour, otherwise 0).\n",
        "model.w: Shutdown status (1 if shut down in the current hour, otherwise 0)."
      ],
      "metadata": {
        "id": "JTXSVi7RIOEX"
      }
    },
    {
      "cell_type": "code",
      "source": [
        "# Define variables\n",
        "model.P = Var(model.Generators, model.Time, within=NonNegativeReals)  # Power output\n",
        "model.u = Var(model.Generators, model.Time, within=Binary)  # On/off status\n",
        "model.v = Var(model.Generators, model.Time, within=Binary)  # Startup\n",
        "model.w = Var(model.Generators, model.Time, within=Binary)  # Shutdown"
      ],
      "metadata": {
        "id": "B48-g9kcDWVR"
      },
      "execution_count": null,
      "outputs": []
    },
    {
      "cell_type": "markdown",
      "source": [
        "# Objective function\n",
        "\n",
        "Minimizes the total cost:\n",
        "Operational Cost:\n",
        "𝑃 𝑖,𝑡 × Operating Cost\n",
        "\n",
        "Startup Cost:\n",
        "𝑣𝑖,𝑡 × Startup Cost\n",
        "\n",
        "Shutdown Cost:\n",
        "𝑤 𝑖,𝑡 × Shutdown Cost"
      ],
      "metadata": {
        "id": "HdldnncHIn2Q"
      }
    },
    {
      "cell_type": "code",
      "source": [
        "#Minimize total cost\n",
        "def total_cost(model):\n",
        "    op_cost = sum(\n",
        "        model.P[i, t] * operating_cost[i] for i in model.Generators for t in model.Time\n",
        "    )\n",
        "    start_cost = sum(\n",
        "        model.v[i, t] * startup_cost[i] for i in model.Generators for t in model.Time\n",
        "    )\n",
        "    shut_cost = sum(\n",
        "        model.w[i, t] * shutdown_cost[i] for i in model.Generators for t in model.Time\n",
        "    )\n",
        "    return op_cost + start_cost + shut_cost\n",
        "\n",
        "\n",
        "model.Objective = Objective(rule=total_cost, sense=minimize)"
      ],
      "metadata": {
        "id": "okgnroYNDRzO"
      },
      "execution_count": null,
      "outputs": []
    },
    {
      "cell_type": "markdown",
      "source": [
        "# Constraints\n",
        "\n",
        "\n",
        "1.  Power Balance Constraint\n",
        "2.  Generator Limits\n",
        "3. Reserve Requirement\n",
        "4. Startup/Shutdown Constraints\n",
        "\n"
      ],
      "metadata": {
        "id": "DVW-GOYdDO1U"
      }
    },
    {
      "cell_type": "code",
      "source": [
        "\n",
        "# Demand profile (MW) over 24 hours\n",
        "demand = {t: 100 + 10 * (t % 5) for t in model.Time}  # Periodic variation\n",
        "\n",
        "# 1. Power balance constraint\n",
        "def demand_constraint(model, t):\n",
        "    return sum(model.P[i, t] for i in model.Generators) >= demand[t]\n",
        "\n",
        "model.DemandConstraint = Constraint(model.Time, rule=demand_constraint)\n",
        "\n"
      ],
      "metadata": {
        "id": "eHboRNRWDMwu",
        "colab": {
          "base_uri": "https://localhost:8080/"
        },
        "outputId": "d28fedd2-4205-49ac-afe7-fd72a342a370"
      },
      "execution_count": null,
      "outputs": [
        {
          "output_type": "stream",
          "name": "stderr",
          "text": [
            "WARNING:pyomo.core:Implicitly replacing the Component attribute DemandConstraint (type=<class 'pyomo.core.base.constraint.IndexedConstraint'>) on block unknown with a new Component (type=<class 'pyomo.core.base.constraint.IndexedConstraint'>).\n",
            "This is usually indicative of a modelling error.\n",
            "To avoid this warning, use block.del_component() and block.add_component().\n"
          ]
        }
      ]
    },
    {
      "cell_type": "code",
      "source": [
        "# 2. Generator limits using Big-M approach\n",
        "def generator_min_limit(model, i, t):\n",
        "    return model.P[i, t] >= model.u[i, t] * min_output[i]\n",
        "\n",
        "def generator_max_limit(model, i, t):\n",
        "    return model.P[i, t] <= model.u[i, t] * max_output[i]\n",
        "\n",
        "model.GeneratorMinLimit = Constraint(model.Generators, model.Time, rule=generator_min_limit)\n",
        "model.GeneratorMaxLimit = Constraint(model.Generators, model.Time, rule=generator_max_limit)\n",
        "\n"
      ],
      "metadata": {
        "id": "3DPaaSD3DI0W"
      },
      "execution_count": null,
      "outputs": []
    },
    {
      "cell_type": "code",
      "source": [
        "# Reserve factor (percentage of demand to keep as reserve)\n",
        "reserve_factor = 0.1  # 10% reserve requirement\n",
        "\n",
        "# 3. Reserve requirement\n",
        "def reserve_constraint(model, t):\n",
        "    return sum(model.P[i, t] for i in model.Generators) >= demand[t] * (1 + reserve_factor)\n",
        "\n",
        "model.ReserveConstraint = Constraint(model.Time, rule=reserve_constraint)\n"
      ],
      "metadata": {
        "id": "0lVGmpVLDGz2",
        "colab": {
          "base_uri": "https://localhost:8080/"
        },
        "outputId": "bd7bd18e-fe66-4033-fef1-bb5437ef91d8"
      },
      "execution_count": null,
      "outputs": [
        {
          "output_type": "stream",
          "name": "stderr",
          "text": [
            "WARNING:pyomo.core:Implicitly replacing the Component attribute ReserveConstraint (type=<class 'pyomo.core.base.constraint.IndexedConstraint'>) on block unknown with a new Component (type=<class 'pyomo.core.base.constraint.IndexedConstraint'>).\n",
            "This is usually indicative of a modelling error.\n",
            "To avoid this warning, use block.del_component() and block.add_component().\n"
          ]
        }
      ]
    },
    {
      "cell_type": "code",
      "source": [
        "# 4. Startup/shutdown constraints\n",
        "def startup_shutdown_rule(model, i, t):\n",
        "    if t == 1:\n",
        "        return Constraint.Skip  # Skip for the first time step\n",
        "    return model.u[i, t] - model.u[i, t - 1] == model.v[i, t] - model.w[i, t]\n",
        "\n",
        "\n",
        "model.StartupShutdown = Constraint(model.Generators, model.Time, rule=startup_shutdown_rule)"
      ],
      "metadata": {
        "id": "xVFmCkWWDE0Q"
      },
      "execution_count": null,
      "outputs": []
    },
    {
      "cell_type": "code",
      "source": [
        "!apt-get install -y -qq glpk-utils\n",
        "\n"
      ],
      "metadata": {
        "colab": {
          "base_uri": "https://localhost:8080/"
        },
        "id": "xizESZ_W7Ls7",
        "outputId": "67fa05de-9933-437b-b323-6869f1a9e105"
      },
      "execution_count": null,
      "outputs": [
        {
          "output_type": "stream",
          "name": "stdout",
          "text": [
            "Selecting previously unselected package libsuitesparseconfig5:amd64.\n",
            "(Reading database ... 123634 files and directories currently installed.)\n",
            "Preparing to unpack .../libsuitesparseconfig5_1%3a5.10.1+dfsg-4build1_amd64.deb ...\n",
            "Unpacking libsuitesparseconfig5:amd64 (1:5.10.1+dfsg-4build1) ...\n",
            "Selecting previously unselected package libamd2:amd64.\n",
            "Preparing to unpack .../libamd2_1%3a5.10.1+dfsg-4build1_amd64.deb ...\n",
            "Unpacking libamd2:amd64 (1:5.10.1+dfsg-4build1) ...\n",
            "Selecting previously unselected package libcolamd2:amd64.\n",
            "Preparing to unpack .../libcolamd2_1%3a5.10.1+dfsg-4build1_amd64.deb ...\n",
            "Unpacking libcolamd2:amd64 (1:5.10.1+dfsg-4build1) ...\n",
            "Selecting previously unselected package libglpk40:amd64.\n",
            "Preparing to unpack .../libglpk40_5.0-1_amd64.deb ...\n",
            "Unpacking libglpk40:amd64 (5.0-1) ...\n",
            "Selecting previously unselected package glpk-utils.\n",
            "Preparing to unpack .../glpk-utils_5.0-1_amd64.deb ...\n",
            "Unpacking glpk-utils (5.0-1) ...\n",
            "Setting up libsuitesparseconfig5:amd64 (1:5.10.1+dfsg-4build1) ...\n",
            "Setting up libamd2:amd64 (1:5.10.1+dfsg-4build1) ...\n",
            "Setting up libcolamd2:amd64 (1:5.10.1+dfsg-4build1) ...\n",
            "Setting up libglpk40:amd64 (5.0-1) ...\n",
            "Setting up glpk-utils (5.0-1) ...\n",
            "Processing triggers for man-db (2.10.2-1) ...\n",
            "Processing triggers for libc-bin (2.35-0ubuntu3.4) ...\n",
            "/sbin/ldconfig.real: /usr/local/lib/libtcm_debug.so.1 is not a symbolic link\n",
            "\n",
            "/sbin/ldconfig.real: /usr/local/lib/libur_loader.so.0 is not a symbolic link\n",
            "\n",
            "/sbin/ldconfig.real: /usr/local/lib/libhwloc.so.15 is not a symbolic link\n",
            "\n",
            "/sbin/ldconfig.real: /usr/local/lib/libumf.so.0 is not a symbolic link\n",
            "\n",
            "/sbin/ldconfig.real: /usr/local/lib/libtbbmalloc_proxy.so.2 is not a symbolic link\n",
            "\n",
            "/sbin/ldconfig.real: /usr/local/lib/libtbbbind_2_0.so.3 is not a symbolic link\n",
            "\n",
            "/sbin/ldconfig.real: /usr/local/lib/libtbbbind.so.3 is not a symbolic link\n",
            "\n",
            "/sbin/ldconfig.real: /usr/local/lib/libtbbmalloc.so.2 is not a symbolic link\n",
            "\n",
            "/sbin/ldconfig.real: /usr/local/lib/libtbb.so.12 is not a symbolic link\n",
            "\n",
            "/sbin/ldconfig.real: /usr/local/lib/libtbbbind_2_5.so.3 is not a symbolic link\n",
            "\n",
            "/sbin/ldconfig.real: /usr/local/lib/libtcm.so.1 is not a symbolic link\n",
            "\n",
            "/sbin/ldconfig.real: /usr/local/lib/libur_adapter_level_zero.so.0 is not a symbolic link\n",
            "\n",
            "/sbin/ldconfig.real: /usr/local/lib/libur_adapter_opencl.so.0 is not a symbolic link\n",
            "\n"
          ]
        }
      ]
    },
    {
      "cell_type": "code",
      "source": [
        "!glpsol --version\n"
      ],
      "metadata": {
        "colab": {
          "base_uri": "https://localhost:8080/"
        },
        "id": "eRejl4w8-CEo",
        "outputId": "5ef9b07a-5532-43b6-e5e6-19dd495561a4"
      },
      "execution_count": null,
      "outputs": [
        {
          "output_type": "stream",
          "name": "stdout",
          "text": [
            "GLPSOL--GLPK LP/MIP Solver 5.0\n",
            "Copyright (C) 2000-2020 Free Software Foundation, Inc.\n",
            "\n",
            "This program has ABSOLUTELY NO WARRANTY.\n",
            "\n",
            "This program is free software; you may re-distribute it under the terms\n",
            "of the GNU General Public License version 3 or later.\n"
          ]
        }
      ]
    },
    {
      "cell_type": "markdown",
      "source": [
        "# Solve the Model"
      ],
      "metadata": {
        "id": "Vz32qXi4JmZY"
      }
    },
    {
      "cell_type": "code",
      "source": [
        "solver = SolverFactory(\"glpk\", executable=\"/usr/bin/glpsol\")\n",
        "results = solver.solve(model)\n"
      ],
      "metadata": {
        "id": "YHRzciwQ-KTT"
      },
      "execution_count": null,
      "outputs": []
    },
    {
      "cell_type": "markdown",
      "source": [
        "# Display Results"
      ],
      "metadata": {
        "id": "PrDQcOw5JqOy"
      }
    },
    {
      "cell_type": "code",
      "source": [
        "# Display total cost\n",
        "print(\"Total Cost: $\", model.Objective())\n",
        "\n",
        "# Display generator schedules\n",
        "for t in model.Time:\n",
        "    print(f\"\\nHour {t}:\")\n",
        "    for i in model.Generators:\n",
        "        print(\n",
        "            f\"  Generator {i}: Power = {model.P[i, t].value:.2f} MW, Status = {int(model.u[i, t].value)}\"\n",
        "        )\n",
        "\n"
      ],
      "metadata": {
        "id": "P4QFzMn5C945",
        "colab": {
          "base_uri": "https://localhost:8080/"
        },
        "outputId": "bb02abe8-b34d-414d-f1d8-c530be6670b9"
      },
      "execution_count": null,
      "outputs": [
        {
          "output_type": "stream",
          "name": "stdout",
          "text": [
            "Total Cost: $ 31900.0\n",
            "\n",
            "Hour 1:\n",
            "  Generator 1: Power = 100.00 MW, Status = 1\n",
            "  Generator 2: Power = 21.00 MW, Status = 1\n",
            "  Generator 3: Power = 0.00 MW, Status = 0\n",
            "  Generator 4: Power = 0.00 MW, Status = 0\n",
            "  Generator 5: Power = 0.00 MW, Status = 0\n",
            "\n",
            "Hour 2:\n",
            "  Generator 1: Power = 100.00 MW, Status = 1\n",
            "  Generator 2: Power = 32.00 MW, Status = 1\n",
            "  Generator 3: Power = 0.00 MW, Status = 0\n",
            "  Generator 4: Power = 0.00 MW, Status = 0\n",
            "  Generator 5: Power = 0.00 MW, Status = 0\n",
            "\n",
            "Hour 3:\n",
            "  Generator 1: Power = 100.00 MW, Status = 1\n",
            "  Generator 2: Power = 43.00 MW, Status = 1\n",
            "  Generator 3: Power = 0.00 MW, Status = 0\n",
            "  Generator 4: Power = 0.00 MW, Status = 0\n",
            "  Generator 5: Power = 0.00 MW, Status = 0\n",
            "\n",
            "Hour 4:\n",
            "  Generator 1: Power = 54.00 MW, Status = 1\n",
            "  Generator 2: Power = 100.00 MW, Status = 1\n",
            "  Generator 3: Power = 0.00 MW, Status = 0\n",
            "  Generator 4: Power = 0.00 MW, Status = 0\n",
            "  Generator 5: Power = 0.00 MW, Status = 0\n",
            "\n",
            "Hour 5:\n",
            "  Generator 1: Power = 90.00 MW, Status = 1\n",
            "  Generator 2: Power = 20.00 MW, Status = 1\n",
            "  Generator 3: Power = 0.00 MW, Status = 0\n",
            "  Generator 4: Power = 0.00 MW, Status = 0\n",
            "  Generator 5: Power = 0.00 MW, Status = 0\n",
            "\n",
            "Hour 6:\n",
            "  Generator 1: Power = 100.00 MW, Status = 1\n",
            "  Generator 2: Power = 21.00 MW, Status = 1\n",
            "  Generator 3: Power = 0.00 MW, Status = 0\n",
            "  Generator 4: Power = 0.00 MW, Status = 0\n",
            "  Generator 5: Power = 0.00 MW, Status = 0\n",
            "\n",
            "Hour 7:\n",
            "  Generator 1: Power = 100.00 MW, Status = 1\n",
            "  Generator 2: Power = 32.00 MW, Status = 1\n",
            "  Generator 3: Power = 0.00 MW, Status = 0\n",
            "  Generator 4: Power = 0.00 MW, Status = 0\n",
            "  Generator 5: Power = 0.00 MW, Status = 0\n",
            "\n",
            "Hour 8:\n",
            "  Generator 1: Power = 100.00 MW, Status = 1\n",
            "  Generator 2: Power = 43.00 MW, Status = 1\n",
            "  Generator 3: Power = 0.00 MW, Status = 0\n",
            "  Generator 4: Power = 0.00 MW, Status = 0\n",
            "  Generator 5: Power = 0.00 MW, Status = 0\n",
            "\n",
            "Hour 9:\n",
            "  Generator 1: Power = 54.00 MW, Status = 1\n",
            "  Generator 2: Power = 100.00 MW, Status = 1\n",
            "  Generator 3: Power = 0.00 MW, Status = 0\n",
            "  Generator 4: Power = 0.00 MW, Status = 0\n",
            "  Generator 5: Power = 0.00 MW, Status = 0\n",
            "\n",
            "Hour 10:\n",
            "  Generator 1: Power = 90.00 MW, Status = 1\n",
            "  Generator 2: Power = 20.00 MW, Status = 1\n",
            "  Generator 3: Power = 0.00 MW, Status = 0\n",
            "  Generator 4: Power = 0.00 MW, Status = 0\n",
            "  Generator 5: Power = 0.00 MW, Status = 0\n",
            "\n",
            "Hour 11:\n",
            "  Generator 1: Power = 100.00 MW, Status = 1\n",
            "  Generator 2: Power = 21.00 MW, Status = 1\n",
            "  Generator 3: Power = 0.00 MW, Status = 0\n",
            "  Generator 4: Power = 0.00 MW, Status = 0\n",
            "  Generator 5: Power = 0.00 MW, Status = 0\n",
            "\n",
            "Hour 12:\n",
            "  Generator 1: Power = 100.00 MW, Status = 1\n",
            "  Generator 2: Power = 32.00 MW, Status = 1\n",
            "  Generator 3: Power = 0.00 MW, Status = 0\n",
            "  Generator 4: Power = 0.00 MW, Status = 0\n",
            "  Generator 5: Power = 0.00 MW, Status = 0\n",
            "\n",
            "Hour 13:\n",
            "  Generator 1: Power = 100.00 MW, Status = 1\n",
            "  Generator 2: Power = 43.00 MW, Status = 1\n",
            "  Generator 3: Power = 0.00 MW, Status = 0\n",
            "  Generator 4: Power = 0.00 MW, Status = 0\n",
            "  Generator 5: Power = 0.00 MW, Status = 0\n",
            "\n",
            "Hour 14:\n",
            "  Generator 1: Power = 54.00 MW, Status = 1\n",
            "  Generator 2: Power = 100.00 MW, Status = 1\n",
            "  Generator 3: Power = 0.00 MW, Status = 0\n",
            "  Generator 4: Power = 0.00 MW, Status = 0\n",
            "  Generator 5: Power = 0.00 MW, Status = 0\n",
            "\n",
            "Hour 15:\n",
            "  Generator 1: Power = 90.00 MW, Status = 1\n",
            "  Generator 2: Power = 20.00 MW, Status = 1\n",
            "  Generator 3: Power = 0.00 MW, Status = 0\n",
            "  Generator 4: Power = 0.00 MW, Status = 0\n",
            "  Generator 5: Power = 0.00 MW, Status = 0\n",
            "\n",
            "Hour 16:\n",
            "  Generator 1: Power = 100.00 MW, Status = 1\n",
            "  Generator 2: Power = 21.00 MW, Status = 1\n",
            "  Generator 3: Power = 0.00 MW, Status = 0\n",
            "  Generator 4: Power = 0.00 MW, Status = 0\n",
            "  Generator 5: Power = 0.00 MW, Status = 0\n",
            "\n",
            "Hour 17:\n",
            "  Generator 1: Power = 100.00 MW, Status = 1\n",
            "  Generator 2: Power = 32.00 MW, Status = 1\n",
            "  Generator 3: Power = 0.00 MW, Status = 0\n",
            "  Generator 4: Power = 0.00 MW, Status = 0\n",
            "  Generator 5: Power = 0.00 MW, Status = 0\n",
            "\n",
            "Hour 18:\n",
            "  Generator 1: Power = 100.00 MW, Status = 1\n",
            "  Generator 2: Power = 43.00 MW, Status = 1\n",
            "  Generator 3: Power = 0.00 MW, Status = 0\n",
            "  Generator 4: Power = 0.00 MW, Status = 0\n",
            "  Generator 5: Power = 0.00 MW, Status = 0\n",
            "\n",
            "Hour 19:\n",
            "  Generator 1: Power = 54.00 MW, Status = 1\n",
            "  Generator 2: Power = 100.00 MW, Status = 1\n",
            "  Generator 3: Power = 0.00 MW, Status = 0\n",
            "  Generator 4: Power = 0.00 MW, Status = 0\n",
            "  Generator 5: Power = 0.00 MW, Status = 0\n",
            "\n",
            "Hour 20:\n",
            "  Generator 1: Power = 90.00 MW, Status = 1\n",
            "  Generator 2: Power = 20.00 MW, Status = 1\n",
            "  Generator 3: Power = 0.00 MW, Status = 0\n",
            "  Generator 4: Power = 0.00 MW, Status = 0\n",
            "  Generator 5: Power = 0.00 MW, Status = 0\n",
            "\n",
            "Hour 21:\n",
            "  Generator 1: Power = 100.00 MW, Status = 1\n",
            "  Generator 2: Power = 21.00 MW, Status = 1\n",
            "  Generator 3: Power = 0.00 MW, Status = 0\n",
            "  Generator 4: Power = 0.00 MW, Status = 0\n",
            "  Generator 5: Power = 0.00 MW, Status = 0\n",
            "\n",
            "Hour 22:\n",
            "  Generator 1: Power = 100.00 MW, Status = 1\n",
            "  Generator 2: Power = 32.00 MW, Status = 1\n",
            "  Generator 3: Power = 0.00 MW, Status = 0\n",
            "  Generator 4: Power = 0.00 MW, Status = 0\n",
            "  Generator 5: Power = 0.00 MW, Status = 0\n",
            "\n",
            "Hour 23:\n",
            "  Generator 1: Power = 100.00 MW, Status = 1\n",
            "  Generator 2: Power = 43.00 MW, Status = 1\n",
            "  Generator 3: Power = 0.00 MW, Status = 0\n",
            "  Generator 4: Power = 0.00 MW, Status = 0\n",
            "  Generator 5: Power = 0.00 MW, Status = 0\n",
            "\n",
            "Hour 24:\n",
            "  Generator 1: Power = 54.00 MW, Status = 1\n",
            "  Generator 2: Power = 100.00 MW, Status = 1\n",
            "  Generator 3: Power = 0.00 MW, Status = 0\n",
            "  Generator 4: Power = 0.00 MW, Status = 0\n",
            "  Generator 5: Power = 0.00 MW, Status = 0\n"
          ]
        }
      ]
    },
    {
      "cell_type": "markdown",
      "source": [
        "# Visualization"
      ],
      "metadata": {
        "id": "AcJbKw_BJzC_"
      }
    },
    {
      "cell_type": "code",
      "source": [
        "import matplotlib.pyplot as plt\n",
        "\n",
        "schedules = {i: [model.P[i, t].value for t in model.Time] for i in model.Generators}\n",
        "\n",
        "for i in model.Generators:\n",
        "    plt.plot(range(1, num_hours + 1), schedules[i], label=f\"Generator {i}\")\n",
        "\n",
        "plt.xlabel(\"Hour\")\n",
        "plt.ylabel(\"Power Output (MW)\")\n",
        "plt.title(\"Generator Schedules\")\n",
        "plt.legend()\n",
        "plt.grid()\n",
        "plt.show()\n"
      ],
      "metadata": {
        "colab": {
          "base_uri": "https://localhost:8080/",
          "height": 472
        },
        "id": "HA7c0DouJwkC",
        "outputId": "19b575ea-9937-4b1f-e6e2-1c65648e5d9b"
      },
      "execution_count": null,
      "outputs": [
        {
          "output_type": "display_data",
          "data": {
            "text/plain": [
              "<Figure size 640x480 with 1 Axes>"
            ],
            "image/png": "[encoded data removed]"
          },
          "metadata": {}
        }
      ]
    },
    {
      "cell_type": "markdown",
      "source": [
        "\n",
        "#Solve the Model\n",
        "\n",
        "is the phase where you run the optimization model to compute the optimal solution based on the input data, constraints, and objective function defined in earlier steps. This involves:\n",
        "\n",
        "Choosing an optimization solver.\n",
        "Solving the model.\n",
        "Extracting and displaying the results.\n",
        "Detailed Steps to Solve the Model\n",
        "1. Choose a Solver\n",
        "Solvers are mathematical engines that process the optimization model and compute solutions.\n",
        "In this example, we use GLPK, a free and open-source solver.\n",
        "Other solvers like CBC, Gurobi, or CPLEX can also be used."
      ],
      "metadata": {
        "id": "do1zcPgaKYrZ"
      }
    },
    {
      "cell_type": "markdown",
      "source": [
        "#Dataset: National Renewable Energy Laboratory (NREL) - Wind and Solar Resource Data\n",
        "Renewable Energy Generation\n",
        "Description: Includes detailed wind and solar generation data at different locations.\n",
        "Application: Introduce wind and solar generators into your model with varying output based on weather data."
      ],
      "metadata": {
        "id": "MlFIpOQMKtVZ"
      }
    },
    {
      "cell_type": "code",
      "source": [
        "import requests\n",
        "import pandas as pd\n",
        "\n",
        "# Replace with your NREL API Key\n",
        "api_key = \"fvj2ei4nfWzO5LIJ23ePgh998sy2Ce6f3IrU9bfS\"\n",
        "\n",
        "# Define API Endpoint and Parameters\n",
        "url = \"https://developer.nrel.gov/api/solar/nsrdb_psm3_download.csv\"\n",
        "\n",
        "# Use a sample location if no specific location is known\n",
        "params = {\n",
        "    \"wkt\": \"POINT(-104.9903 39.7392)\",  # Denver, CO coordinates (replace as needed)\n",
        "    \"names\": \"2020\",  # Year of data\n",
        "    \"interval\": \"60\",  # Data interval (60 minutes)\n",
        "    \"api_key\": api_key,\n",
        "    \"attributes\": \"ghi,dni,wind_speed\",  # Specify attributes: GHI, DNI, wind speed, etc.\n",
        "    \"utc\": \"true\",  # Use UTC time\n",
        "    \"email\": \"amin.parissa@gmail.com\",  # Replace with your registered email\n",
        "}\n",
        "\n",
        "# Fetch Data\n",
        "response = requests.get(url, params=params)\n",
        "\n",
        "if response.status_code == 200:\n",
        "    # Save the data to a CSV file\n",
        "    with open(\"nrel_data.csv\", \"w\") as file:\n",
        "        file.write(response.text)\n",
        "    print(\"Data downloaded successfully!\")\n",
        "\n",
        "    # Load the CSV into a Pandas DataFrame\n",
        "    df = pd.read_csv(\"nrel_data.csv\")\n",
        "    print(df.head())\n",
        "else:\n",
        "    print(\"Error:\", response.status_code, response.text)\n"
      ],
      "metadata": {
        "colab": {
          "base_uri": "https://localhost:8080/"
        },
        "id": "tOWFy_ek_5El",
        "outputId": "30df3403-c6f2-4e4b-96a6-29464497fb63"
      },
      "execution_count": null,
      "outputs": [
        {
          "output_type": "stream",
          "name": "stdout",
          "text": [
            "Data downloaded successfully!\n",
            "  Source Location ID City State Country Latitude Longitude   Time Zone  \\\n",
            "0  NSRDB      484137    -     -       -    39.73   -104.98           0   \n",
            "1   Year       Month  Day  Hour  Minute      GHI       DNI  Wind Speed   \n",
            "2   2020           1    1     0      30        0         0         2.6   \n",
            "3   2020           1    1     1      30        0         0         3.6   \n",
            "4   2020           1    1     2      30        0         0         4.4   \n",
            "\n",
            "   Elevation  Local Time Zone  ... Cloud Type 11 Cloud Type 12 Fill Flag 0  \\\n",
            "0     1604.0             -7.0  ...          Dust         Smoke         NaN   \n",
            "1        NaN              NaN  ...           NaN           NaN         NaN   \n",
            "2        NaN              NaN  ...           NaN           NaN         NaN   \n",
            "3        NaN              NaN  ...           NaN           NaN         NaN   \n",
            "4        NaN              NaN  ...           NaN           NaN         NaN   \n",
            "\n",
            "     Fill Flag 1     Fill Flag 2       Fill Flag 3               Fill Flag 4  \\\n",
            "0  Missing Image  Low Irradiance  Exceeds Clearsky  Missing CLoud Properties   \n",
            "1            NaN             NaN               NaN                       NaN   \n",
            "2            NaN             NaN               NaN                       NaN   \n",
            "3            NaN             NaN               NaN                       NaN   \n",
            "4            NaN             NaN               NaN                       NaN   \n",
            "\n",
            "          Fill Flag 5 Surface Albedo Units Version  \n",
            "0  Rayleigh Violation                  NaN   3.2.0  \n",
            "1                 NaN                  NaN     NaN  \n",
            "2                 NaN                  NaN     NaN  \n",
            "3                 NaN                  NaN     NaN  \n",
            "4                 NaN                  NaN     NaN  \n",
            "\n",
            "[5 rows x 46 columns]\n"
          ]
        }
      ]
    },
    {
      "cell_type": "markdown",
      "source": [
        "#Clean and Process the Data\n",
        "The raw data may have unnecessary columns and missing values. We'll clean it and keep only relevant attributes (e.g., GHI, DNI, Wind Speed)."
      ],
      "metadata": {
        "id": "-8oYP0ZGDGAA"
      }
    },
    {
      "cell_type": "code",
      "source": [
        "print(df.columns)  # Display the column names\n"
      ],
      "metadata": {
        "colab": {
          "base_uri": "https://localhost:8080/"
        },
        "id": "X48u6NYZDcP1",
        "outputId": "6976979c-e756-4ef4-a6eb-5938cdcf2842"
      },
      "execution_count": null,
      "outputs": [
        {
          "output_type": "stream",
          "name": "stdout",
          "text": [
            "Index(['Source', 'Location ID', 'City', 'State', 'Country', 'Latitude',\n",
            "       'Longitude', 'Time Zone', 'Elevation', 'Local Time Zone',\n",
            "       'Clearsky DHI Units', 'Clearsky DNI Units', 'Clearsky GHI Units',\n",
            "       'Dew Point Units', 'DHI Units', 'DNI Units', 'GHI Units',\n",
            "       'Solar Zenith Angle Units', 'Temperature Units', 'Pressure Units',\n",
            "       'Relative Humidity Units', 'Precipitable Water Units',\n",
            "       'Wind Direction Units', 'Wind Speed Units', 'Cloud Type -15',\n",
            "       'Cloud Type 0', 'Cloud Type 1', 'Cloud Type 2', 'Cloud Type 3',\n",
            "       'Cloud Type 4', 'Cloud Type 5', 'Cloud Type 6', 'Cloud Type 7',\n",
            "       'Cloud Type 8', 'Cloud Type 9', 'Cloud Type 10', 'Cloud Type 11',\n",
            "       'Cloud Type 12', 'Fill Flag 0', 'Fill Flag 1', 'Fill Flag 2',\n",
            "       'Fill Flag 3', 'Fill Flag 4', 'Fill Flag 5', 'Surface Albedo Units',\n",
            "       'Version'],\n",
            "      dtype='object')\n"
          ]
        }
      ]
    },
    {
      "cell_type": "markdown",
      "source": [
        "Select Relevant Columns\n",
        "Based on your Unit Commitment Problem (UCP) model and machine learning integration goals, the following columns are relevant:\n",
        "\n",
        "GHI Units: Global Horizontal Irradiance – useful for solar energy modeling.\n",
        "DNI Units: Direct Normal Irradiance – another key input for solar power generation.\n",
        "Wind Speed Units: Crucial for wind energy calculations.\n",
        "Temperature Units: Can affect efficiency of solar panels and other equipment.\n",
        "Relative Humidity Units: Impacts renewable energy performance and weather forecasting."
      ],
      "metadata": {
        "id": "bFfyi8zNFPKv"
      }
    },
    {
      "cell_type": "code",
      "source": [
        "print(df.columns)\n",
        "print(f\"Number of columns in dataset: {len(df.columns)}\")\n",
        "\n"
      ],
      "metadata": {
        "colab": {
          "base_uri": "https://localhost:8080/"
        },
        "id": "r1obLn6ODnHP",
        "outputId": "b9eaf4b3-e144-48e4-bdd7-c137c7665e6a"
      },
      "execution_count": null,
      "outputs": [
        {
          "output_type": "stream",
          "name": "stdout",
          "text": [
            "Index(['Year', 'Month', 'Day', 'Hour', 'Minute', 'GHI', 'DNI', 'Wind Speed'], dtype='object')\n",
            "Number of columns in dataset: 8\n"
          ]
        }
      ]
    },
    {
      "cell_type": "code",
      "source": [
        "import pandas as pd\n",
        "\n",
        "# Load the dataset\n",
        "df = pd.read_csv(\"nrel_data.csv\", skiprows=2)  # Skip metadata rows if necessary\n",
        "\n",
        "# Confirm column names and count\n",
        "print(\"Columns in the dataset:\", df.columns)\n",
        "print(f\"Number of columns: {len(df.columns)}\")\n",
        "\n",
        "# Rename columns for clarity (if needed)\n",
        "df.columns = ['Year', 'Month', 'Day', 'Hour', 'Minute', 'GHI', 'DNI', 'Wind Speed']\n",
        "\n",
        "# Select relevant columns\n",
        "relevant_columns = ['Year', 'Month', 'Day', 'Hour', 'Minute', 'GHI', 'DNI', 'Wind Speed']\n",
        "df = df[relevant_columns]\n",
        "\n",
        "# Convert to numeric and handle missing values\n",
        "df = df.apply(pd.to_numeric, errors='coerce').dropna()\n",
        "\n",
        "# Preview the cleaned dataset\n",
        "print(\"Cleaned Dataset Preview:\")\n",
        "print(df.head())\n",
        "\n",
        "# Save the cleaned data for further analysis\n",
        "df.to_csv(\"cleaned_nrel_data.csv\", index=False)\n",
        "print(\"Cleaned dataset saved to 'cleaned_nrel_data.csv'\")\n"
      ],
      "metadata": {
        "colab": {
          "base_uri": "https://localhost:8080/"
        },
        "id": "fbaMJJgFFqWF",
        "outputId": "30dd6964-578f-413e-f23a-79e9501a5504"
      },
      "execution_count": null,
      "outputs": [
        {
          "output_type": "stream",
          "name": "stdout",
          "text": [
            "Columns in the dataset: Index(['Year', 'Month', 'Day', 'Hour', 'Minute', 'GHI', 'DNI', 'Wind Speed'], dtype='object')\n",
            "Number of columns: 8\n",
            "Cleaned Dataset Preview:\n",
            "   Year  Month  Day  Hour  Minute  GHI  DNI  Wind Speed\n",
            "0  2020      1    1     0      30    0    0         2.6\n",
            "1  2020      1    1     1      30    0    0         3.6\n",
            "2  2020      1    1     2      30    0    0         4.4\n",
            "3  2020      1    1     3      30    0    0         5.2\n",
            "4  2020      1    1     4      30    0    0         5.6\n",
            "Cleaned dataset saved to 'cleaned_nrel_data.csv'\n"
          ]
        }
      ]
    },
    {
      "cell_type": "markdown",
      "source": [
        "#  Integrating Data into UCP Model\n",
        "Understand the Dataset:\n",
        "\n",
        "GHI (Global Horizontal Irradiance): Represents solar power potential.\n",
        "DNI (Direct Normal Irradiance): Useful for concentrated solar power.\n",
        "Wind Speed: A key input for estimating wind power generation.\n",
        "Prepare Data for UCP:\n",
        "\n",
        "Aggregate the data to match the time granularity of your UCP model (e.g., hourly intervals).\n",
        "Use this data to model renewable energy generation inputs for your optimization.\n",
        "Data Aggregation: Since your UCP model works with hourly time intervals, aggregate the GHI, DNI, and Wind Speed data:"
      ],
      "metadata": {
        "id": "ihgbtdkyFzZI"
      }
    },
    {
      "cell_type": "code",
      "source": [
        "# Aggregate data to hourly intervals\n",
        "df['Datetime'] = pd.to_datetime(df[['Year', 'Month', 'Day', 'Hour', 'Minute']])\n",
        "df_hourly = df.resample('H', on='Datetime').mean()\n",
        "\n",
        "# Drop unnecessary columns after aggregation\n",
        "df_hourly = df_hourly[['GHI', 'DNI', 'Wind Speed']]\n",
        "print(df_hourly.head())\n",
        "\n",
        "# Save aggregated data\n",
        "df_hourly.to_csv(\"aggregated_nrel_data.csv\")\n",
        "print(\"Aggregated data saved to 'aggregated_nrel_data.csv'\")\n"
      ],
      "metadata": {
        "colab": {
          "base_uri": "https://localhost:8080/"
        },
        "id": "oJThnrA0F2Te",
        "outputId": "6f93b0d1-3e2f-4d99-ede1-c21a75a1b982"
      },
      "execution_count": null,
      "outputs": [
        {
          "output_type": "stream",
          "name": "stdout",
          "text": [
            "                     GHI  DNI  Wind Speed\n",
            "Datetime                                 \n",
            "2020-01-01 00:00:00  0.0  0.0         2.6\n",
            "2020-01-01 01:00:00  0.0  0.0         3.6\n",
            "2020-01-01 02:00:00  0.0  0.0         4.4\n",
            "2020-01-01 03:00:00  0.0  0.0         5.2\n",
            "2020-01-01 04:00:00  0.0  0.0         5.6\n",
            "Aggregated data saved to 'aggregated_nrel_data.csv'\n"
          ]
        },
        {
          "output_type": "stream",
          "name": "stderr",
          "text": [
            "<ipython-input-14-976884e172b0>:3: FutureWarning: 'H' is deprecated and will be removed in a future version, please use 'h' instead.\n",
            "  df_hourly = df.resample('H', on='Datetime').mean()\n"
          ]
        }
      ]
    },
    {
      "cell_type": "markdown",
      "source": [
        "#Machine Learning Integration\n",
        "Train a Machine Learning Model: Use the aggregated renewable energy data to forecast net demand by combining it with simulated or existing base demand data.\n",
        "\n",
        "Incorporate ML Predictions into the UCP Model: Use the forecasted demand as the input to your Pyomo optimization model."
      ],
      "metadata": {
        "id": "lYRHxkMMKnNv"
      }
    },
    {
      "cell_type": "code",
      "source": [
        "import pandas as pd\n",
        "import numpy as np\n",
        "from sklearn.ensemble import RandomForestRegressor\n",
        "from sklearn.model_selection import train_test_split\n",
        "from sklearn.metrics import mean_squared_error\n",
        "from pyomo.environ import *\n",
        "\n",
        "# Step 1: Load and preprocess data\n",
        "# Load the aggregated renewable energy data\n",
        "df_hourly = pd.read_csv(\"aggregated_nrel_data.csv\", parse_dates=[\"Datetime\"], index_col=\"Datetime\")\n",
        "\n",
        "# Simulate base demand (replace with actual demand if available)\n",
        "base_demand = 100 + 20 * np.sin(2 * np.pi * df_hourly.index.hour / 24)\n",
        "\n",
        "# Renewable energy generation efficiency\n",
        "solar_efficiency = 0.2  # Example efficiency for solar\n",
        "wind_efficiency = 0.3  # Example efficiency for wind\n",
        "\n",
        "# Calculate renewable generation and net demand\n",
        "df_hourly['Renewable_Generation'] = df_hourly['GHI'] * solar_efficiency + df_hourly['Wind Speed'] * wind_efficiency\n",
        "df_hourly['Base_Demand'] = base_demand\n",
        "df_hourly['Net_Demand'] = df_hourly['Base_Demand'] - df_hourly['Renewable_Generation']\n"
      ],
      "metadata": {
        "id": "lpB4R-ABKnrn"
      },
      "execution_count": null,
      "outputs": []
    },
    {
      "cell_type": "code",
      "source": [
        "# Features and target for ML model\n",
        "features = df_hourly[['GHI', 'Wind Speed']].copy()\n",
        "features['Hour'] = df_hourly.index.hour\n",
        "features['DayOfWeek'] = df_hourly.index.dayofweek\n",
        "features['Month'] = df_hourly.index.month\n",
        "\n",
        "target = df_hourly['Net_Demand']"
      ],
      "metadata": {
        "id": "JVPKg_JwLMvn"
      },
      "execution_count": null,
      "outputs": []
    },
    {
      "cell_type": "code",
      "source": [
        "# Check for missing values in the target variable\n",
        "print(\"Number of missing values in target:\", target.isna().sum())\n",
        "\n",
        "# Drop rows with missing Net_Demand\n",
        "data_cleaned = df_hourly.dropna(subset=['Net_Demand'])\n",
        "print(\"Data cleaned. Rows remaining:\", len(data_cleaned))\n",
        "\n",
        "# Update features and target\n",
        "features = data_cleaned[['GHI', 'Wind Speed']].copy()\n",
        "features['Hour'] = data_cleaned.index.hour\n",
        "features['DayOfWeek'] = data_cleaned.index.dayofweek\n",
        "features['Month'] = data_cleaned.index.month\n",
        "\n",
        "target = data_cleaned['Net_Demand']\n",
        "\n",
        "# Split data into train and test sets\n",
        "X_train, X_test, y_train, y_test = train_test_split(features, target, test_size=0.2, random_state=42)\n",
        "\n",
        "# Train a Random Forest Regressor\n",
        "rf_model = RandomForestRegressor(n_estimators=100, random_state=42)\n",
        "rf_model.fit(X_train, y_train)\n",
        "\n",
        "# Evaluate the model\n",
        "predictions = rf_model.predict(X_test)\n",
        "mse = mean_squared_error(y_test, predictions)\n",
        "print(f\"Mean Squared Error: {mse}\")\n",
        "\n"
      ],
      "metadata": {
        "colab": {
          "base_uri": "https://localhost:8080/"
        },
        "id": "iLF9Wr3mLI7x",
        "outputId": "952af053-e672-4456-f86a-b23d50819805"
      },
      "execution_count": null,
      "outputs": [
        {
          "output_type": "stream",
          "name": "stdout",
          "text": [
            "Number of missing values in target: 24\n",
            "Data cleaned. Rows remaining: 8760\n",
            "Mean Squared Error: 0.26993398486302206\n"
          ]
        }
      ]
    },
    {
      "cell_type": "code",
      "source": [
        "# Step 3: Forecast Demand for the Next 24 Hours\n",
        "# Use the latest data for forecasting\n",
        "latest_features = features.iloc[-24:]\n",
        "predicted_demand = rf_model.predict(latest_features)"
      ],
      "metadata": {
        "id": "wpwjSMtgLFZh"
      },
      "execution_count": null,
      "outputs": []
    },
    {
      "cell_type": "markdown",
      "source": [
        "#Integrating ML Predictions into the UCP Model"
      ],
      "metadata": {
        "id": "GhNX3Gx_URdk"
      }
    },
    {
      "cell_type": "code",
      "source": [
        "\n",
        "# Define the UCP model\n",
        "num_generators = 5\n",
        "num_hours = 24\n",
        "\n",
        "model = ConcreteModel()\n",
        "model.Generators = RangeSet(num_generators)\n",
        "model.Time = RangeSet(num_hours)"
      ],
      "metadata": {
        "id": "5Uk9LJiKLBYD"
      },
      "execution_count": null,
      "outputs": []
    },
    {
      "cell_type": "code",
      "source": [
        "# Generator parameters\n",
        "min_output = {i: 20 for i in model.Generators}\n",
        "max_output = {i: 100 for i in model.Generators}\n",
        "startup_cost = {i: 200 for i in model.Generators}\n",
        "shutdown_cost = {i: 100 for i in model.Generators}\n",
        "operating_cost = {i: 10 for i in model.Generators}\n",
        "\n",
        "# Variables\n",
        "model.P = Var(model.Generators, model.Time, within=NonNegativeReals)\n",
        "model.u = Var(model.Generators, model.Time, within=Binary)\n",
        "model.v = Var(model.Generators, model.Time, within=Binary)\n",
        "model.w = Var(model.Generators, model.Time, within=Binary)"
      ],
      "metadata": {
        "id": "m7SS7HldK-P2"
      },
      "execution_count": null,
      "outputs": []
    },
    {
      "cell_type": "code",
      "source": [
        "# Objective function\n",
        "def total_cost(model):\n",
        "    op_cost = sum(\n",
        "        model.P[i, t] * operating_cost[i] for i in model.Generators for t in model.Time\n",
        "    )\n",
        "    start_cost = sum(\n",
        "        model.v[i, t] * startup_cost[i] for i in model.Generators for t in model.Time\n",
        "    )\n",
        "    shut_cost = sum(\n",
        "        model.w[i, t] * shutdown_cost[i] for i in model.Generators for t in model.Time\n",
        "    )\n",
        "    return op_cost + start_cost + shut_cost\n",
        "\n",
        "model.Objective = Objective(rule=total_cost, sense=minimize)"
      ],
      "metadata": {
        "id": "L4rFGwh2K7mu"
      },
      "execution_count": null,
      "outputs": []
    },
    {
      "cell_type": "markdown",
      "source": [
        "#Constraints"
      ],
      "metadata": {
        "id": "ICfb97xIK5Y9"
      }
    },
    {
      "cell_type": "code",
      "source": [
        "\n",
        "# Power balance constraint\n",
        "predicted_demand_dict = {t: predicted_demand[t - 1] for t in model.Time}\n",
        "\n",
        "def demand_constraint(model, t):\n",
        "    return sum(model.P[i, t] for i in model.Generators) >= predicted_demand_dict[t]\n",
        "\n",
        "model.DemandConstraint = Constraint(model.Time, rule=demand_constraint)"
      ],
      "metadata": {
        "id": "i-pumkOcK35Z"
      },
      "execution_count": null,
      "outputs": []
    },
    {
      "cell_type": "code",
      "source": [
        "# Generator limits\n",
        "def generator_min_limit(model, i, t):\n",
        "    return model.P[i, t] >= model.u[i, t] * min_output[i]\n",
        "\n",
        "def generator_max_limit(model, i, t):\n",
        "    return model.P[i, t] <= model.u[i, t] * max_output[i]\n",
        "\n",
        "model.GeneratorMinLimit = Constraint(model.Generators, model.Time, rule=generator_min_limit)\n",
        "model.GeneratorMaxLimit = Constraint(model.Generators, model.Time, rule=generator_max_limit)"
      ],
      "metadata": {
        "id": "1dp377C7K1vB"
      },
      "execution_count": null,
      "outputs": []
    },
    {
      "cell_type": "code",
      "source": [
        "# Startup/shutdown constraints\n",
        "def startup_shutdown_rule(model, i, t):\n",
        "    if t == 1:\n",
        "        return Constraint.Skip\n",
        "    return model.u[i, t] - model.u[i, t - 1] == model.v[i, t] - model.w[i, t]\n",
        "\n",
        "model.StartupShutdown = Constraint(model.Generators, model.Time, rule=startup_shutdown_rule)"
      ],
      "metadata": {
        "id": "QJhj6FHXK0Ha",
        "colab": {
          "base_uri": "https://localhost:8080/",
          "height": 176
        },
        "outputId": "804eeb74-509c-4c28-d0bf-fdb84aa732ab"
      },
      "execution_count": null,
      "outputs": [
        {
          "output_type": "error",
          "ename": "NameError",
          "evalue": "name 'Constraint' is not defined",
          "traceback": [
            "\u001b[0;31m---------------------------------------------------------------------------\u001b[0m",
            "\u001b[0;31mNameError\u001b[0m                                 Traceback (most recent call last)",
            "\u001b[0;32m<ipython-input-1-53c3604726b9>\u001b[0m in \u001b[0;36m<cell line: 7>\u001b[0;34m()\u001b[0m\n\u001b[1;32m      5\u001b[0m     \u001b[0;32mreturn\u001b[0m \u001b[0mmodel\u001b[0m\u001b[0;34m.\u001b[0m\u001b[0mu\u001b[0m\u001b[0;34m[\u001b[0m\u001b[0mi\u001b[0m\u001b[0;34m,\u001b[0m \u001b[0mt\u001b[0m\u001b[0;34m]\u001b[0m \u001b[0;34m-\u001b[0m \u001b[0mmodel\u001b[0m\u001b[0;34m.\u001b[0m\u001b[0mu\u001b[0m\u001b[0;34m[\u001b[0m\u001b[0mi\u001b[0m\u001b[0;34m,\u001b[0m \u001b[0mt\u001b[0m \u001b[0;34m-\u001b[0m \u001b[0;36m1\u001b[0m\u001b[0;34m]\u001b[0m \u001b[0;34m==\u001b[0m \u001b[0mmodel\u001b[0m\u001b[0;34m.\u001b[0m\u001b[0mv\u001b[0m\u001b[0;34m[\u001b[0m\u001b[0mi\u001b[0m\u001b[0;34m,\u001b[0m \u001b[0mt\u001b[0m\u001b[0;34m]\u001b[0m \u001b[0;34m-\u001b[0m \u001b[0mmodel\u001b[0m\u001b[0;34m.\u001b[0m\u001b[0mw\u001b[0m\u001b[0;34m[\u001b[0m\u001b[0mi\u001b[0m\u001b[0;34m,\u001b[0m \u001b[0mt\u001b[0m\u001b[0;34m]\u001b[0m\u001b[0;34m\u001b[0m\u001b[0;34m\u001b[0m\u001b[0m\n\u001b[1;32m      6\u001b[0m \u001b[0;34m\u001b[0m\u001b[0m\n\u001b[0;32m----> 7\u001b[0;31m \u001b[0mmodel\u001b[0m\u001b[0;34m.\u001b[0m\u001b[0mStartupShutdown\u001b[0m \u001b[0;34m=\u001b[0m \u001b[0mConstraint\u001b[0m\u001b[0;34m(\u001b[0m\u001b[0mmodel\u001b[0m\u001b[0;34m.\u001b[0m\u001b[0mGenerators\u001b[0m\u001b[0;34m,\u001b[0m \u001b[0mmodel\u001b[0m\u001b[0;34m.\u001b[0m\u001b[0mTime\u001b[0m\u001b[0;34m,\u001b[0m \u001b[0mrule\u001b[0m\u001b[0;34m=\u001b[0m\u001b[0mstartup_shutdown_rule\u001b[0m\u001b[0;34m)\u001b[0m\u001b[0;34m\u001b[0m\u001b[0;34m\u001b[0m\u001b[0m\n\u001b[0m",
            "\u001b[0;31mNameError\u001b[0m: name 'Constraint' is not defined"
          ]
        }
      ]
    },
    {
      "cell_type": "code",
      "source": [
        "!apt-get install -y glpk-utils\n"
      ],
      "metadata": {
        "colab": {
          "base_uri": "https://localhost:8080/"
        },
        "id": "u9NqwbH0LvQF",
        "outputId": "ae29b6d1-ada7-4ba5-861f-d4f4a8c28af7"
      },
      "execution_count": null,
      "outputs": [
        {
          "output_type": "stream",
          "name": "stdout",
          "text": [
            "Reading package lists... Done\n",
            "Building dependency tree... Done\n",
            "Reading state information... Done\n",
            "The following additional packages will be installed:\n",
            "  libamd2 libcolamd2 libglpk40 libsuitesparseconfig5\n",
            "Suggested packages:\n",
            "  libiodbc2-dev\n",
            "The following NEW packages will be installed:\n",
            "  glpk-utils libamd2 libcolamd2 libglpk40 libsuitesparseconfig5\n",
            "0 upgraded, 5 newly installed, 0 to remove and 49 not upgraded.\n",
            "Need to get 625 kB of archives.\n",
            "After this operation, 2,158 kB of additional disk space will be used.\n",
            "Get:1 http://archive.ubuntu.com/ubuntu jammy/main amd64 libsuitesparseconfig5 amd64 1:5.10.1+dfsg-4build1 [10.4 kB]\n",
            "Get:2 http://archive.ubuntu.com/ubuntu jammy/universe amd64 libamd2 amd64 1:5.10.1+dfsg-4build1 [21.6 kB]\n",
            "Get:3 http://archive.ubuntu.com/ubuntu jammy/main amd64 libcolamd2 amd64 1:5.10.1+dfsg-4build1 [18.0 kB]\n",
            "Get:4 http://archive.ubuntu.com/ubuntu jammy/universe amd64 libglpk40 amd64 5.0-1 [361 kB]\n",
            "Get:5 http://archive.ubuntu.com/ubuntu jammy/universe amd64 glpk-utils amd64 5.0-1 [214 kB]\n",
            "Fetched 625 kB in 1s (919 kB/s)\n",
            "Selecting previously unselected package libsuitesparseconfig5:amd64.\n",
            "(Reading database ... 123634 files and directories currently installed.)\n",
            "Preparing to unpack .../libsuitesparseconfig5_1%3a5.10.1+dfsg-4build1_amd64.deb ...\n",
            "Unpacking libsuitesparseconfig5:amd64 (1:5.10.1+dfsg-4build1) ...\n",
            "Selecting previously unselected package libamd2:amd64.\n",
            "Preparing to unpack .../libamd2_1%3a5.10.1+dfsg-4build1_amd64.deb ...\n",
            "Unpacking libamd2:amd64 (1:5.10.1+dfsg-4build1) ...\n",
            "Selecting previously unselected package libcolamd2:amd64.\n",
            "Preparing to unpack .../libcolamd2_1%3a5.10.1+dfsg-4build1_amd64.deb ...\n",
            "Unpacking libcolamd2:amd64 (1:5.10.1+dfsg-4build1) ...\n",
            "Selecting previously unselected package libglpk40:amd64.\n",
            "Preparing to unpack .../libglpk40_5.0-1_amd64.deb ...\n",
            "Unpacking libglpk40:amd64 (5.0-1) ...\n",
            "Selecting previously unselected package glpk-utils.\n",
            "Preparing to unpack .../glpk-utils_5.0-1_amd64.deb ...\n",
            "Unpacking glpk-utils (5.0-1) ...\n",
            "Setting up libsuitesparseconfig5:amd64 (1:5.10.1+dfsg-4build1) ...\n",
            "Setting up libamd2:amd64 (1:5.10.1+dfsg-4build1) ...\n",
            "Setting up libcolamd2:amd64 (1:5.10.1+dfsg-4build1) ...\n",
            "Setting up libglpk40:amd64 (5.0-1) ...\n",
            "Setting up glpk-utils (5.0-1) ...\n",
            "Processing triggers for man-db (2.10.2-1) ...\n",
            "Processing triggers for libc-bin (2.35-0ubuntu3.4) ...\n",
            "/sbin/ldconfig.real: /usr/local/lib/libtcm_debug.so.1 is not a symbolic link\n",
            "\n",
            "/sbin/ldconfig.real: /usr/local/lib/libur_loader.so.0 is not a symbolic link\n",
            "\n",
            "/sbin/ldconfig.real: /usr/local/lib/libhwloc.so.15 is not a symbolic link\n",
            "\n",
            "/sbin/ldconfig.real: /usr/local/lib/libumf.so.0 is not a symbolic link\n",
            "\n",
            "/sbin/ldconfig.real: /usr/local/lib/libtbbmalloc_proxy.so.2 is not a symbolic link\n",
            "\n",
            "/sbin/ldconfig.real: /usr/local/lib/libtbbbind_2_0.so.3 is not a symbolic link\n",
            "\n",
            "/sbin/ldconfig.real: /usr/local/lib/libtbbbind.so.3 is not a symbolic link\n",
            "\n",
            "/sbin/ldconfig.real: /usr/local/lib/libtbbmalloc.so.2 is not a symbolic link\n",
            "\n",
            "/sbin/ldconfig.real: /usr/local/lib/libtbb.so.12 is not a symbolic link\n",
            "\n",
            "/sbin/ldconfig.real: /usr/local/lib/libtbbbind_2_5.so.3 is not a symbolic link\n",
            "\n",
            "/sbin/ldconfig.real: /usr/local/lib/libtcm.so.1 is not a symbolic link\n",
            "\n",
            "/sbin/ldconfig.real: /usr/local/lib/libur_adapter_level_zero.so.0 is not a symbolic link\n",
            "\n",
            "/sbin/ldconfig.real: /usr/local/lib/libur_adapter_opencl.so.0 is not a symbolic link\n",
            "\n"
          ]
        }
      ]
    },
    {
      "cell_type": "code",
      "source": [
        "!glpsol --version\n"
      ],
      "metadata": {
        "colab": {
          "base_uri": "https://localhost:8080/"
        },
        "id": "sHkcMk__MG_I",
        "outputId": "b660d9ec-bd02-4494-9a82-e14cb0cc6cf3"
      },
      "execution_count": null,
      "outputs": [
        {
          "output_type": "stream",
          "name": "stdout",
          "text": [
            "GLPSOL--GLPK LP/MIP Solver 5.0\n",
            "Copyright (C) 2000-2020 Free Software Foundation, Inc.\n",
            "\n",
            "This program has ABSOLUTELY NO WARRANTY.\n",
            "\n",
            "This program is free software; you may re-distribute it under the terms\n",
            "of the GNU General Public License version 3 or later.\n"
          ]
        }
      ]
    },
    {
      "cell_type": "code",
      "source": [
        "#find the path glpsol installed\n",
        "!which glpsol\n"
      ],
      "metadata": {
        "colab": {
          "base_uri": "https://localhost:8080/"
        },
        "id": "LebhH2cyMkog",
        "outputId": "903c88ad-80a8-455a-b483-58e4cb2d16f3"
      },
      "execution_count": null,
      "outputs": [
        {
          "output_type": "stream",
          "name": "stdout",
          "text": [
            "/usr/bin/glpsol\n"
          ]
        }
      ]
    },
    {
      "cell_type": "code",
      "source": [
        "# Solve the model\n",
        "solver = SolverFactory(\"glpk\", executable=\"/usr/bin/glpsol\")  # Adjust the path if necessary\n",
        "results = solver.solve(model)\n",
        "\n",
        "# Display results\n",
        "print(\"Total Cost:\", model.Objective())\n",
        "for t in model.Time:\n",
        "    print(f\"Hour {t}:\")\n",
        "    for i in model.Generators:\n",
        "        print(\n",
        "            f\"  Generator {i}: Power = {model.P[i, t].value:.2f} MW, Status = {int(model.u[i, t].value)}\"\n",
        "        )\n"
      ],
      "metadata": {
        "colab": {
          "base_uri": "https://localhost:8080/"
        },
        "id": "2OUenVEOKxF0",
        "outputId": "c85b1e63-880d-4fd3-8b29-023a7eaed672"
      },
      "execution_count": null,
      "outputs": [
        {
          "output_type": "stream",
          "name": "stdout",
          "text": [
            "Total Cost: 19164.245668116844\n",
            "Hour 1:\n",
            "  Generator 1: Power = 79.58 MW, Status = 1\n",
            "  Generator 2: Power = 0.00 MW, Status = 0\n",
            "  Generator 3: Power = 0.00 MW, Status = 0\n",
            "  Generator 4: Power = 0.00 MW, Status = 0\n",
            "  Generator 5: Power = 20.00 MW, Status = 1\n",
            "Hour 2:\n",
            "  Generator 1: Power = 84.55 MW, Status = 1\n",
            "  Generator 2: Power = 0.00 MW, Status = 0\n",
            "  Generator 3: Power = 0.00 MW, Status = 0\n",
            "  Generator 4: Power = 0.00 MW, Status = 0\n",
            "  Generator 5: Power = 20.00 MW, Status = 1\n",
            "Hour 3:\n",
            "  Generator 1: Power = 20.00 MW, Status = 1\n",
            "  Generator 2: Power = 0.00 MW, Status = 0\n",
            "  Generator 3: Power = 0.00 MW, Status = 0\n",
            "  Generator 4: Power = 0.00 MW, Status = 0\n",
            "  Generator 5: Power = 89.21 MW, Status = 1\n",
            "Hour 4:\n",
            "  Generator 1: Power = 20.00 MW, Status = 1\n",
            "  Generator 2: Power = 0.00 MW, Status = 0\n",
            "  Generator 3: Power = 0.00 MW, Status = 0\n",
            "  Generator 4: Power = 0.00 MW, Status = 0\n",
            "  Generator 5: Power = 93.24 MW, Status = 1\n",
            "Hour 5:\n",
            "  Generator 1: Power = 20.00 MW, Status = 1\n",
            "  Generator 2: Power = 0.00 MW, Status = 0\n",
            "  Generator 3: Power = 0.00 MW, Status = 0\n",
            "  Generator 4: Power = 0.00 MW, Status = 0\n",
            "  Generator 5: Power = 96.36 MW, Status = 1\n",
            "Hour 6:\n",
            "  Generator 1: Power = 20.00 MW, Status = 1\n",
            "  Generator 2: Power = 0.00 MW, Status = 0\n",
            "  Generator 3: Power = 0.00 MW, Status = 0\n",
            "  Generator 4: Power = 0.00 MW, Status = 0\n",
            "  Generator 5: Power = 98.30 MW, Status = 1\n",
            "Hour 7:\n",
            "  Generator 1: Power = 98.97 MW, Status = 1\n",
            "  Generator 2: Power = 0.00 MW, Status = 0\n",
            "  Generator 3: Power = 0.00 MW, Status = 0\n",
            "  Generator 4: Power = 0.00 MW, Status = 0\n",
            "  Generator 5: Power = 20.00 MW, Status = 1\n",
            "Hour 8:\n",
            "  Generator 1: Power = 98.36 MW, Status = 1\n",
            "  Generator 2: Power = 0.00 MW, Status = 0\n",
            "  Generator 3: Power = 0.00 MW, Status = 0\n",
            "  Generator 4: Power = 0.00 MW, Status = 0\n",
            "  Generator 5: Power = 20.00 MW, Status = 1\n",
            "Hour 9:\n",
            "  Generator 1: Power = 96.42 MW, Status = 1\n",
            "  Generator 2: Power = 0.00 MW, Status = 0\n",
            "  Generator 3: Power = 0.00 MW, Status = 0\n",
            "  Generator 4: Power = 0.00 MW, Status = 0\n",
            "  Generator 5: Power = 20.00 MW, Status = 1\n",
            "Hour 10:\n",
            "  Generator 1: Power = 93.24 MW, Status = 1\n",
            "  Generator 2: Power = 0.00 MW, Status = 0\n",
            "  Generator 3: Power = 0.00 MW, Status = 0\n",
            "  Generator 4: Power = 0.00 MW, Status = 0\n",
            "  Generator 5: Power = 20.00 MW, Status = 1\n",
            "Hour 11:\n",
            "  Generator 1: Power = 89.10 MW, Status = 1\n",
            "  Generator 2: Power = 0.00 MW, Status = 0\n",
            "  Generator 3: Power = 0.00 MW, Status = 0\n",
            "  Generator 4: Power = 0.00 MW, Status = 0\n",
            "  Generator 5: Power = 20.00 MW, Status = 1\n",
            "Hour 12:\n",
            "  Generator 1: Power = 84.34 MW, Status = 1\n",
            "  Generator 2: Power = 0.00 MW, Status = 0\n",
            "  Generator 3: Power = 0.00 MW, Status = 0\n",
            "  Generator 4: Power = 0.00 MW, Status = 0\n",
            "  Generator 5: Power = 20.00 MW, Status = 1\n",
            "Hour 13:\n",
            "  Generator 1: Power = 79.25 MW, Status = 1\n",
            "  Generator 2: Power = 0.00 MW, Status = 0\n",
            "  Generator 3: Power = 0.00 MW, Status = 0\n",
            "  Generator 4: Power = 0.00 MW, Status = 0\n",
            "  Generator 5: Power = 20.00 MW, Status = 1\n",
            "Hour 14:\n",
            "  Generator 1: Power = 74.16 MW, Status = 1\n",
            "  Generator 2: Power = 0.00 MW, Status = 0\n",
            "  Generator 3: Power = 0.00 MW, Status = 0\n",
            "  Generator 4: Power = 0.00 MW, Status = 0\n",
            "  Generator 5: Power = 20.00 MW, Status = 1\n",
            "Hour 15:\n",
            "  Generator 1: Power = 67.82 MW, Status = 1\n",
            "  Generator 2: Power = 0.00 MW, Status = 0\n",
            "  Generator 3: Power = 0.00 MW, Status = 0\n",
            "  Generator 4: Power = 0.00 MW, Status = 0\n",
            "  Generator 5: Power = 20.00 MW, Status = 1\n",
            "Hour 16:\n",
            "  Generator 1: Power = 33.42 MW, Status = 1\n",
            "  Generator 2: Power = 0.00 MW, Status = 0\n",
            "  Generator 3: Power = 0.00 MW, Status = 0\n",
            "  Generator 4: Power = 0.00 MW, Status = 0\n",
            "  Generator 5: Power = 20.00 MW, Status = 1\n",
            "Hour 17:\n",
            "  Generator 1: Power = 0.00 MW, Status = 0\n",
            "  Generator 2: Power = 0.00 MW, Status = 0\n",
            "  Generator 3: Power = 0.00 MW, Status = 0\n",
            "  Generator 4: Power = 0.00 MW, Status = 0\n",
            "  Generator 5: Power = 20.00 MW, Status = 1\n",
            "Hour 18:\n",
            "  Generator 1: Power = 0.00 MW, Status = 0\n",
            "  Generator 2: Power = 0.00 MW, Status = 0\n",
            "  Generator 3: Power = 0.00 MW, Status = 0\n",
            "  Generator 4: Power = 0.00 MW, Status = 0\n",
            "  Generator 5: Power = 0.00 MW, Status = 0\n",
            "Hour 19:\n",
            "  Generator 1: Power = 0.00 MW, Status = 0\n",
            "  Generator 2: Power = 0.00 MW, Status = 0\n",
            "  Generator 3: Power = 0.00 MW, Status = 0\n",
            "  Generator 4: Power = 0.00 MW, Status = 0\n",
            "  Generator 5: Power = 0.00 MW, Status = 0\n",
            "Hour 20:\n",
            "  Generator 1: Power = 0.00 MW, Status = 0\n",
            "  Generator 2: Power = 0.00 MW, Status = 0\n",
            "  Generator 3: Power = 0.00 MW, Status = 0\n",
            "  Generator 4: Power = 0.00 MW, Status = 0\n",
            "  Generator 5: Power = 0.00 MW, Status = 0\n",
            "Hour 21:\n",
            "  Generator 1: Power = 0.00 MW, Status = 0\n",
            "  Generator 2: Power = 0.00 MW, Status = 0\n",
            "  Generator 3: Power = 0.00 MW, Status = 0\n",
            "  Generator 4: Power = 0.00 MW, Status = 0\n",
            "  Generator 5: Power = 0.00 MW, Status = 0\n",
            "Hour 22:\n",
            "  Generator 1: Power = 0.00 MW, Status = 0\n",
            "  Generator 2: Power = 0.00 MW, Status = 0\n",
            "  Generator 3: Power = 25.28 MW, Status = 1\n",
            "  Generator 4: Power = 0.00 MW, Status = 0\n",
            "  Generator 5: Power = 0.00 MW, Status = 0\n",
            "Hour 23:\n",
            "  Generator 1: Power = 0.00 MW, Status = 0\n",
            "  Generator 2: Power = 0.00 MW, Status = 0\n",
            "  Generator 3: Power = 62.76 MW, Status = 1\n",
            "  Generator 4: Power = 0.00 MW, Status = 0\n",
            "  Generator 5: Power = 0.00 MW, Status = 0\n",
            "Hour 24:\n",
            "  Generator 1: Power = 0.00 MW, Status = 0\n",
            "  Generator 2: Power = 0.00 MW, Status = 0\n",
            "  Generator 3: Power = 92.07 MW, Status = 1\n",
            "  Generator 4: Power = 0.00 MW, Status = 0\n",
            "  Generator 5: Power = 0.00 MW, Status = 0\n"
          ]
        }
      ]
    },
    {
      "cell_type": "markdown",
      "source": [
        "# Visualizing the Results\n",
        "To better understand the schedule, you can visualize the generator outputs:\n",
        "\n",
        "Plot Power Outputs per Generator"
      ],
      "metadata": {
        "id": "SimNDfJld-Qe"
      }
    },
    {
      "cell_type": "code",
      "source": [
        "import matplotlib.pyplot as plt\n",
        "\n",
        "# Extract data for plotting\n",
        "hours = list(model.Time)\n",
        "power_outputs = {i: [model.P[i, t].value for t in model.Time] for i in model.Generators}\n",
        "\n",
        "# Plot\n",
        "for gen, output in power_outputs.items():\n",
        "    plt.plot(hours, output, label=f\"Generator {gen}\")\n",
        "\n",
        "plt.xlabel(\"Hour\")\n",
        "plt.ylabel(\"Power Output (MW)\")\n",
        "plt.title(\"Generator Schedules\")\n",
        "plt.legend()\n",
        "plt.grid()\n",
        "plt.show()\n"
      ],
      "metadata": {
        "colab": {
          "base_uri": "https://localhost:8080/",
          "height": 472
        },
        "id": "Do6K4fjbd-xy",
        "outputId": "88e9d3ab-efdd-4099-ec29-acc5e63cf35c"
      },
      "execution_count": null,
      "outputs": [
        {
          "output_type": "display_data",
          "data": {
            "text/plain": [
              "<Figure size 640x480 with 1 Axes>"
            ],
            "image/png": "[encoded data removed]"
          },
          "metadata": {}
        }
      ]
    },
    {
      "cell_type": "markdown",
      "source": [
        "#Plot Generator Status"
      ],
      "metadata": {
        "id": "dMXxJyFZeKDz"
      }
    },
    {
      "cell_type": "code",
      "source": [
        "# Extract status data\n",
        "statuses = {i: [model.u[i, t].value for t in model.Time] for i in model.Generators}\n",
        "\n",
        "# Plot\n",
        "for gen, status in statuses.items():\n",
        "    plt.step(hours, status, label=f\"Generator {gen}\")\n",
        "\n",
        "plt.xlabel(\"Hour\")\n",
        "plt.ylabel(\"Status (On/Off)\")\n",
        "plt.title(\"Generator On/Off Status\")\n",
        "plt.legend()\n",
        "plt.grid()\n",
        "plt.show()\n"
      ],
      "metadata": {
        "colab": {
          "base_uri": "https://localhost:8080/",
          "height": 472
        },
        "id": "F0bIM_GreIs7",
        "outputId": "b7f7ef21-b03e-48bb-9713-16848d0ec019"
      },
      "execution_count": null,
      "outputs": [
        {
          "output_type": "display_data",
          "data": {
            "text/plain": [
              "<Figure size 640x480 with 1 Axes>"
            ],
            "image/png": "[encoded data removed]"
          },
          "metadata": {}
        }
      ]
    }
  ]
}